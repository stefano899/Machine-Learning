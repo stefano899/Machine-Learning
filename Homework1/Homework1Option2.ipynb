{
 "cells": [
  {
   "cell_type": "code",
   "execution_count": 62,
   "id": "initial_id",
   "metadata": {
    "collapsed": true,
    "ExecuteTime": {
     "end_time": "2025-08-06T16:21:21.171499Z",
     "start_time": "2025-08-06T16:21:21.168087Z"
    }
   },
   "outputs": [],
   "source": [
    "import pandas as pd\n",
    "import numpy as np\n",
    "from tensorflow import keras\n",
    "from tensorflow.keras import layers\n",
    "from keras.src.metrics import BinaryAccuracy\n",
    "from sklearn.model_selection import train_test_split\n",
    "from sklearn.preprocessing import OneHotEncoder\n",
    "import itertools\n",
    "from matplotlib import pyplot as plt\n"
   ]
  },
  {
   "cell_type": "code",
   "outputs": [],
   "source": [],
   "metadata": {
    "collapsed": false,
    "ExecuteTime": {
     "end_time": "2025-08-06T15:16:51.651969Z",
     "start_time": "2025-08-06T15:16:51.650211Z"
    }
   },
   "id": "51e4a04fe5af6859",
   "execution_count": 1
  },
  {
   "cell_type": "code",
   "outputs": [
    {
     "data": {
      "text/plain": "      letter  x-box  y-box  width  high  onpix  x-bar  y-bar  x2bar  y2bar  \\\n0          T      2      8      3     5      1      8     13      0      6   \n1          I      5     12      3     7      2     10      5      5      4   \n2          D      4     11      6     8      6     10      6      2      6   \n3          N      7     11      6     6      3      5      9      4      6   \n4          G      2      1      3     1      1      8      6      6      6   \n...      ...    ...    ...    ...   ...    ...    ...    ...    ...    ...   \n19995      D      2      2      3     3      2      7      7      7      6   \n19996      C      7     10      8     8      4      4      8      6      9   \n19997      T      6      9      6     7      5      6     11      3      7   \n19998      S      2      3      4     2      1      8      7      2      6   \n19999      A      4      9      6     6      2      9      5      3      1   \n\n       xybar  x2ybr  xy2br  x-ege  xegvy  y-ege  yegvx  \n0          6     10      8      0      8      0      8  \n1         13      3      9      2      8      4     10  \n2         10      3      7      3      7      3      9  \n3          4      4     10      6     10      2      8  \n4          6      5      9      1      7      5     10  \n...      ...    ...    ...    ...    ...    ...    ...  \n19995      6      6      4      2      8      3      7  \n19996     12      9     13      2      9      3      7  \n19997     11      9      5      2     12      2      4  \n19998     10      6      8      1      9      5      8  \n19999      8      1      8      2      7      2      8  \n\n[20000 rows x 17 columns]",
      "text/html": "<div>\n<style scoped>\n    .dataframe tbody tr th:only-of-type {\n        vertical-align: middle;\n    }\n\n    .dataframe tbody tr th {\n        vertical-align: top;\n    }\n\n    .dataframe thead th {\n        text-align: right;\n    }\n</style>\n<table border=\"1\" class=\"dataframe\">\n  <thead>\n    <tr style=\"text-align: right;\">\n      <th></th>\n      <th>letter</th>\n      <th>x-box</th>\n      <th>y-box</th>\n      <th>width</th>\n      <th>high</th>\n      <th>onpix</th>\n      <th>x-bar</th>\n      <th>y-bar</th>\n      <th>x2bar</th>\n      <th>y2bar</th>\n      <th>xybar</th>\n      <th>x2ybr</th>\n      <th>xy2br</th>\n      <th>x-ege</th>\n      <th>xegvy</th>\n      <th>y-ege</th>\n      <th>yegvx</th>\n    </tr>\n  </thead>\n  <tbody>\n    <tr>\n      <th>0</th>\n      <td>T</td>\n      <td>2</td>\n      <td>8</td>\n      <td>3</td>\n      <td>5</td>\n      <td>1</td>\n      <td>8</td>\n      <td>13</td>\n      <td>0</td>\n      <td>6</td>\n      <td>6</td>\n      <td>10</td>\n      <td>8</td>\n      <td>0</td>\n      <td>8</td>\n      <td>0</td>\n      <td>8</td>\n    </tr>\n    <tr>\n      <th>1</th>\n      <td>I</td>\n      <td>5</td>\n      <td>12</td>\n      <td>3</td>\n      <td>7</td>\n      <td>2</td>\n      <td>10</td>\n      <td>5</td>\n      <td>5</td>\n      <td>4</td>\n      <td>13</td>\n      <td>3</td>\n      <td>9</td>\n      <td>2</td>\n      <td>8</td>\n      <td>4</td>\n      <td>10</td>\n    </tr>\n    <tr>\n      <th>2</th>\n      <td>D</td>\n      <td>4</td>\n      <td>11</td>\n      <td>6</td>\n      <td>8</td>\n      <td>6</td>\n      <td>10</td>\n      <td>6</td>\n      <td>2</td>\n      <td>6</td>\n      <td>10</td>\n      <td>3</td>\n      <td>7</td>\n      <td>3</td>\n      <td>7</td>\n      <td>3</td>\n      <td>9</td>\n    </tr>\n    <tr>\n      <th>3</th>\n      <td>N</td>\n      <td>7</td>\n      <td>11</td>\n      <td>6</td>\n      <td>6</td>\n      <td>3</td>\n      <td>5</td>\n      <td>9</td>\n      <td>4</td>\n      <td>6</td>\n      <td>4</td>\n      <td>4</td>\n      <td>10</td>\n      <td>6</td>\n      <td>10</td>\n      <td>2</td>\n      <td>8</td>\n    </tr>\n    <tr>\n      <th>4</th>\n      <td>G</td>\n      <td>2</td>\n      <td>1</td>\n      <td>3</td>\n      <td>1</td>\n      <td>1</td>\n      <td>8</td>\n      <td>6</td>\n      <td>6</td>\n      <td>6</td>\n      <td>6</td>\n      <td>5</td>\n      <td>9</td>\n      <td>1</td>\n      <td>7</td>\n      <td>5</td>\n      <td>10</td>\n    </tr>\n    <tr>\n      <th>...</th>\n      <td>...</td>\n      <td>...</td>\n      <td>...</td>\n      <td>...</td>\n      <td>...</td>\n      <td>...</td>\n      <td>...</td>\n      <td>...</td>\n      <td>...</td>\n      <td>...</td>\n      <td>...</td>\n      <td>...</td>\n      <td>...</td>\n      <td>...</td>\n      <td>...</td>\n      <td>...</td>\n      <td>...</td>\n    </tr>\n    <tr>\n      <th>19995</th>\n      <td>D</td>\n      <td>2</td>\n      <td>2</td>\n      <td>3</td>\n      <td>3</td>\n      <td>2</td>\n      <td>7</td>\n      <td>7</td>\n      <td>7</td>\n      <td>6</td>\n      <td>6</td>\n      <td>6</td>\n      <td>4</td>\n      <td>2</td>\n      <td>8</td>\n      <td>3</td>\n      <td>7</td>\n    </tr>\n    <tr>\n      <th>19996</th>\n      <td>C</td>\n      <td>7</td>\n      <td>10</td>\n      <td>8</td>\n      <td>8</td>\n      <td>4</td>\n      <td>4</td>\n      <td>8</td>\n      <td>6</td>\n      <td>9</td>\n      <td>12</td>\n      <td>9</td>\n      <td>13</td>\n      <td>2</td>\n      <td>9</td>\n      <td>3</td>\n      <td>7</td>\n    </tr>\n    <tr>\n      <th>19997</th>\n      <td>T</td>\n      <td>6</td>\n      <td>9</td>\n      <td>6</td>\n      <td>7</td>\n      <td>5</td>\n      <td>6</td>\n      <td>11</td>\n      <td>3</td>\n      <td>7</td>\n      <td>11</td>\n      <td>9</td>\n      <td>5</td>\n      <td>2</td>\n      <td>12</td>\n      <td>2</td>\n      <td>4</td>\n    </tr>\n    <tr>\n      <th>19998</th>\n      <td>S</td>\n      <td>2</td>\n      <td>3</td>\n      <td>4</td>\n      <td>2</td>\n      <td>1</td>\n      <td>8</td>\n      <td>7</td>\n      <td>2</td>\n      <td>6</td>\n      <td>10</td>\n      <td>6</td>\n      <td>8</td>\n      <td>1</td>\n      <td>9</td>\n      <td>5</td>\n      <td>8</td>\n    </tr>\n    <tr>\n      <th>19999</th>\n      <td>A</td>\n      <td>4</td>\n      <td>9</td>\n      <td>6</td>\n      <td>6</td>\n      <td>2</td>\n      <td>9</td>\n      <td>5</td>\n      <td>3</td>\n      <td>1</td>\n      <td>8</td>\n      <td>1</td>\n      <td>8</td>\n      <td>2</td>\n      <td>7</td>\n      <td>2</td>\n      <td>8</td>\n    </tr>\n  </tbody>\n</table>\n<p>20000 rows × 17 columns</p>\n</div>"
     },
     "execution_count": 2,
     "metadata": {},
     "output_type": "execute_result"
    }
   ],
   "source": [
    "# Renaiming columns\n",
    "columns = ['letter', 'x-box', 'y-box', 'width', 'high', 'onpix', \n",
    "              'x-bar', 'y-bar', 'x2bar', 'y2bar', 'xybar', 'x2ybr', \n",
    "              'xy2br', 'x-ege', 'xegvy', 'y-ege', 'yegvx']\n",
    "\n",
    "df = pd.read_csv(\"letter-recognition.data\", header=None, names=columns)\n",
    "df"
   ],
   "metadata": {
    "collapsed": false,
    "ExecuteTime": {
     "end_time": "2025-08-06T15:16:53.552926Z",
     "start_time": "2025-08-06T15:16:53.518405Z"
    }
   },
   "id": "615052c052cf5c",
   "execution_count": 2
  },
  {
   "cell_type": "markdown",
   "source": [
    "## One-Hot encoding "
   ],
   "metadata": {
    "collapsed": false
   },
   "id": "7c0e098516ea6de"
  },
  {
   "cell_type": "code",
   "outputs": [
    {
     "data": {
      "text/plain": "array([[0., 0., 0., ..., 0., 0., 0.],\n       [0., 0., 0., ..., 0., 0., 0.],\n       [0., 0., 0., ..., 0., 0., 0.],\n       ...,\n       [0., 0., 0., ..., 0., 0., 0.],\n       [0., 0., 0., ..., 0., 0., 0.],\n       [1., 0., 0., ..., 0., 0., 0.]])"
     },
     "execution_count": 3,
     "metadata": {},
     "output_type": "execute_result"
    }
   ],
   "source": [
    "encoder = OneHotEncoder()\n",
    "df_encoded = encoder.fit_transform(df).toarray()\n",
    "df_encoded"
   ],
   "metadata": {
    "collapsed": false,
    "ExecuteTime": {
     "end_time": "2025-08-06T15:16:55.600444Z",
     "start_time": "2025-08-06T15:16:55.559406Z"
    }
   },
   "id": "d523fe5f2924d144",
   "execution_count": 3
  },
  {
   "cell_type": "code",
   "outputs": [],
   "source": [
    "def build_indices(df, columns):\n",
    "    indices = {}\n",
    "    prev = 0\n",
    "    for i in range(len(columns)):\n",
    "        if i == 0:\n",
    "            succ = len(df[columns[i]].unique())\n",
    "            indices[i] = range(prev, succ)\n",
    "        else:\n",
    "            succ = prev + len(df[columns[i]].unique())\n",
    "            indices[i] = range(prev, succ)\n",
    "        prev = succ\n",
    "    return indices"
   ],
   "metadata": {
    "collapsed": false,
    "ExecuteTime": {
     "end_time": "2025-08-06T15:16:56.788880Z",
     "start_time": "2025-08-06T15:16:56.784160Z"
    }
   },
   "id": "6a0eaa7d1286807c",
   "execution_count": 4
  },
  {
   "cell_type": "code",
   "outputs": [
    {
     "data": {
      "text/plain": "{0: range(0, 26),\n 1: range(26, 42),\n 2: range(42, 58),\n 3: range(58, 74),\n 4: range(74, 90),\n 5: range(90, 106),\n 6: range(106, 122),\n 7: range(122, 138),\n 8: range(138, 154),\n 9: range(154, 170),\n 10: range(170, 186),\n 11: range(186, 202),\n 12: range(202, 218),\n 13: range(218, 234),\n 14: range(234, 250),\n 15: range(250, 266),\n 16: range(266, 282)}"
     },
     "execution_count": 5,
     "metadata": {},
     "output_type": "execute_result"
    }
   ],
   "source": [
    "\"\"\"\n",
    "indices = {\n",
    "    0: range(0, 26), # letters\n",
    "    1: range(26, 42), # x-box\n",
    "    2: range(42, 58), # y-box\n",
    "    3: range(58, 74), # width\n",
    "    4: range(74, 90), # high\n",
    "    5: range(90, 106), # on-pix\n",
    "    6: range(106, 122), # x-bar\n",
    "    7: range(122, 138), # y-bar\n",
    "    8: range(138, 154), # x2bar\n",
    "    9: range(154, 170), # y2bar\n",
    "    10: range(170, 186), # xybar\n",
    "    11: range(186, 202), #x2ybr\n",
    "    12: range(202, 218), # xy2br\n",
    "    13: range(218, 234), # x-ege\n",
    "    14: range(234, 250), # xegvy\n",
    "    15: range(250, 266), # y-ege\n",
    "    16: range(266, 282) # yegvx\n",
    "}\n",
    "\"\"\"\n",
    "\n",
    "indices = build_indices(df, columns)\n",
    "indices\n"
   ],
   "metadata": {
    "collapsed": false,
    "ExecuteTime": {
     "end_time": "2025-08-06T15:16:59.518407Z",
     "start_time": "2025-08-06T15:16:59.512619Z"
    }
   },
   "id": "9af31adedbd03e17",
   "execution_count": 5
  },
  {
   "cell_type": "markdown",
   "source": [
    "## I'm going to simulate missing values from the dataset\n",
    "### I'm going to randomly set some values to 0 in every row\n",
    "### The original dataset will be set as Target"
   ],
   "metadata": {
    "collapsed": false
   },
   "id": "2fa5a520d61d5a99"
  },
  {
   "cell_type": "code",
   "outputs": [],
   "source": [
    "import itertools\n",
    "import numpy as np\n",
    "\n",
    "def adding_missing_values(data, indices, k, m):\n",
    "    X = data.copy()\n",
    "    numbers = list(indices.keys())  # list of symbolic variable indices\n",
    "    combinations = itertools.combinations(numbers, k)  # all possible combinations of k variables\n",
    "\n",
    "    for comb in combinations:\n",
    "        # Choose m random rows\n",
    "        rows = np.random.choice(X.shape[0], m, replace=False)\n",
    "   \n",
    "        \n",
    "        for col in comb:\n",
    "            column_indices = list(indices[col])\n",
    "            for j in column_indices:\n",
    "                X[rows, j] = 0.0\n",
    "\n",
    "    return X\n"
   ],
   "metadata": {
    "collapsed": false,
    "ExecuteTime": {
     "end_time": "2025-08-06T16:04:54.429676Z",
     "start_time": "2025-08-06T16:04:54.426208Z"
    }
   },
   "id": "f750c87f498584e4",
   "execution_count": 26
  },
  {
   "cell_type": "code",
   "outputs": [
    {
     "name": "stdout",
     "output_type": "stream",
     "text": [
      "\n",
      "Selected rows: [ 7126  7367 18356 11038 11909  9150 14514  3299 12442 15051  4732  1811\n",
      " 15108  9450  8984 14734 19721  5773 16039   440  1987 15592 19951   416\n",
      "  2232 12727  7897  7479  7922  3581 16917 10749  7564 14078 12046  7598\n",
      "   368  5222 19919  8203 15437  1295  1684 18827 15244 12780  6739  9378\n",
      " 16524 14370  2392  6633 14295  9697  5279 19871  3426 14230 18189 15566\n",
      "  1950 15614   663 19186 14710  2714  3409 11462 15026 14970  9489 14769\n",
      "  2561  9929  3618  3690  3701 10184 10309 15335 12898  6646  8989  1235\n",
      "  7571 16230  1506  9954 19406 15017  7524  1891 17028 13257 18892  2439\n",
      " 16565 18969  1215  7164]\n",
      "Selected symbolic variables (by index): (0,)\n",
      "Zeroing out columns [0, 1, 2, 3, 4, 5, 6, 7, 8, 9, 10, 11, 12, 13, 14, 15, 16, 17, 18, 19, 20, 21, 22, 23, 24, 25] (corresponding to variable 0)\n",
      "\n",
      "Selected rows: [ 4490 17671 18912 16629 15233 14538  6014  3525 17691  6740 10713 19908\n",
      " 13786 16711 11200  8276 17158  2171 11035  1394 18310 18579  3224  3532\n",
      " 18981 17820 13451 14822 11370    37  9759 16280 13821 16324  8118  3785\n",
      "  4030 12384 15465  7563  6688  3179  7435   946 12835 18058   594  6914\n",
      " 19583 16901  1047 18258  4449  4868 15157  5537 16442  7190  2009 19629\n",
      "  7630  1022 16053 10611 11642 15609 18265  1276 16091  2781   460 13673\n",
      " 11693  6675 10871  2964 10662 18375  2980 15713 14254 10920  5477  1146\n",
      "  6844  7817 15643 19023  3808  2746 17404  4309  4904  6424  9608  6608\n",
      " 17130 13708 17183  6955]\n",
      "Selected symbolic variables (by index): (1,)\n",
      "Zeroing out columns [26, 27, 28, 29, 30, 31, 32, 33, 34, 35, 36, 37, 38, 39, 40, 41] (corresponding to variable 1)\n",
      "\n",
      "Selected rows: [  675 15580  4502 15662 18456 17630   921  7455  3479  9640  6548 17492\n",
      " 11491 17147  2642  2276  1269 18469  3945  8939  7059 12906  4049  4482\n",
      " 16444  2815  3267 19513 14461 14594  8464  9876 13002 13762 16300 10068\n",
      "  8740  5679  5252 12163  3356  7640 15949 13289 17604  1832   368 12009\n",
      " 18261 17513  1914 15378  3418  9720 14023 17649   138 19990  4631 14567\n",
      " 14251 18084 14852 19049  3190 13202  4676  9475 10749 18309  4687 16121\n",
      " 13740 10473  6465 19411  7454 16842 11407  8045  4197 16863  2759 10356\n",
      " 12750 10680  5457  4541   289  4181  3529 12522 19145 13378  2169  6457\n",
      "  3870 13138 18363  7673]\n",
      "Selected symbolic variables (by index): (2,)\n",
      "Zeroing out columns [42, 43, 44, 45, 46, 47, 48, 49, 50, 51, 52, 53, 54, 55, 56, 57] (corresponding to variable 2)\n",
      "\n",
      "Selected rows: [ 2636 14104   378  9404 15763  1179  2775  2286 16086  8231 17749  2432\n",
      "  3062 12585 13130   714 16221 15607 17649  8947  2990  1057   986 19655\n",
      " 13299  9088  5663  9755 13885 10112 18563 11833  9785  7929  7605 10842\n",
      " 11032 19389 11056  7596 11100 17469  3753  2896  9061   335  1757  2998\n",
      "  5235  3957 14314  2982 10947  9678 12221 13419  7269 14871   173 11652\n",
      "  8480  8229 18696 12764  5458 13677  1825 12624  4055 18316  3377   250\n",
      "  6787 10740  5318 11813  9059 19285 18645  4599 18213  2031   578  6052\n",
      "  3417  7680 13441  3320  3667  7330  1885 14241 17564  2823  5311 18579\n",
      "  4649 12395  2977  2483]\n",
      "Selected symbolic variables (by index): (3,)\n",
      "Zeroing out columns [58, 59, 60, 61, 62, 63, 64, 65, 66, 67, 68, 69, 70, 71, 72, 73] (corresponding to variable 3)\n",
      "\n",
      "Selected rows: [ 7586  5167  5848  2609  4062 11495   500 10844  4556  3759  8968 12814\n",
      "  7376 14536  7938 12444  3731 13740 13941  9494 11578 14880  3331 14728\n",
      " 12068 16723  9358 10363  2618 19930  9021  8436  2196  2128  2238  6469\n",
      "  3777  8540 16779  4443  8871  8778 14390  5261 10741  9789  9011 12323\n",
      "  5121  8993  7974 15079 16627  2291 10743 18092 17938 18643  1504 17318\n",
      "    53  3040 14749  8335  5520 12106  3119 18444 14832 11930  1026  4037\n",
      "   814 10804  1454 12635  5819  9495 19913   395 17371 12786  4326 19391\n",
      " 18739 11635 18580    41  6484 13516  8193 10542 18992 12332 10300  4724\n",
      "  5972  2652  7540  8311]\n",
      "Selected symbolic variables (by index): (4,)\n",
      "Zeroing out columns [74, 75, 76, 77, 78, 79, 80, 81, 82, 83, 84, 85, 86, 87, 88, 89] (corresponding to variable 4)\n",
      "\n",
      "Selected rows: [    2 19013 12497  2659 15770 10282 15539 12357  4551 17718  6952  4951\n",
      "  9164 16869 17839  4908 10986 19865 12793  2142 17847 16058   543 18220\n",
      " 19591  7943 14618 16025  2677 17816   235  8107  3941  4177  2259  5920\n",
      "  4237  3800 18251 12724  4058   183 19348 16664   146 15010 10350  6124\n",
      "  3784  2724 17459  9699  9617 13669  2305 12559  2116 14016 18162  5970\n",
      " 14162   903 18438 11250  8718 14157  9974  2282 11662 17091  6565  9734\n",
      "   509  6265  6314  7361 14600  5551 11116  2935  4900  3459 16055  8564\n",
      " 10592  1760 13018  6855 10652 19024  2410  7397 10773 18967 18976 18123\n",
      "  4318 18462   944 18728]\n",
      "Selected symbolic variables (by index): (5,)\n",
      "Zeroing out columns [90, 91, 92, 93, 94, 95, 96, 97, 98, 99, 100, 101, 102, 103, 104, 105] (corresponding to variable 5)\n",
      "\n",
      "Selected rows: [15674 10967  3196 17859  6664 15349  9107 13474 17698 15237 10597  2522\n",
      " 19164 14307 13032 11419  7779 17141 16327  4065  1312  7379 15541  5374\n",
      "  8624  2386 13814  2535 16546 11544 14353  8398 17208 19933  4277  4429\n",
      "  6835  5616 16839  2578  8085  9702  2973 19973 17721  9144  1955  7722\n",
      " 16096 13863  6032 13600  8421  7004 17907  1139  2884  5278 14141 18612\n",
      " 11302  9870  8309 15502 12912    13 12846   756  5447 18897  7346  4967\n",
      "  7067  3937 19941 14812 17186   878  1470  7920  4195 19726 19596 12190\n",
      "  7939 14506 17749 19738 12328 10551  7398 12714   273 12765 15976 10911\n",
      "  6998  2583 11379 17939]\n",
      "Selected symbolic variables (by index): (6,)\n",
      "Zeroing out columns [106, 107, 108, 109, 110, 111, 112, 113, 114, 115, 116, 117, 118, 119, 120, 121] (corresponding to variable 6)\n",
      "\n",
      "Selected rows: [11267  6761 13858 17827  3158  7311 12214  9024 19684 17108 13104  3150\n",
      " 14216  4071  6516  8059 10610 18141 16531 17152  8842   932   301  8701\n",
      "   247  1958  9339 16304 14503 16276  7915  7565  2975 18282 14961 11635\n",
      "  7084  1784 18450  9955  2094 19030 13380  7249  3082  6568  7061  5301\n",
      "   529  6979  1321 17689   583  1749  1590 12966  2244 11272 18556  7526\n",
      " 15476  8285 14481 18558 17803  6158  8746  6581  2449 17405  9651  3044\n",
      "  5124 13905 17836 15817  3835  1152  4835 10214  5074 17054 13324  6885\n",
      "  4623 12527  3431  9683 17278  8318 10436 11621 17157 12059 16857 19486\n",
      "  8130 17075  8355 15158]\n",
      "Selected symbolic variables (by index): (7,)\n",
      "Zeroing out columns [122, 123, 124, 125, 126, 127, 128, 129, 130, 131, 132, 133, 134, 135, 136, 137] (corresponding to variable 7)\n",
      "\n",
      "Selected rows: [ 7270 10448  6531 12966 19791 10988  5223  3835 13933 18174  3426 12429\n",
      "  2112  3683 17910 13634  3593 10898 12542 15185    85  3962 11996 16803\n",
      "  2206 11458 15905 16799 18167  9649 14129  1639 14411  6503  3776 12889\n",
      " 14520 15884 11513 13631  7422  5764  1148  9630 11915 15522  1538  6118\n",
      "  6487  7072  1117 11832  1295 17894 15275 13315  4372  2249 18043 17143\n",
      " 13591 18637 12770   634  3416  4237 11148  4003 16425  4635  1097  9324\n",
      "  4507 18629  3113  5353  6406  8093 13608  6135 15605 16616 16022  6986\n",
      " 17497  7794   591  8250 12285 16607  6075  2422 13818    28 13230  6606\n",
      "  3909  6695  8901   763]\n",
      "Selected symbolic variables (by index): (8,)\n",
      "Zeroing out columns [138, 139, 140, 141, 142, 143, 144, 145, 146, 147, 148, 149, 150, 151, 152, 153] (corresponding to variable 8)\n",
      "\n",
      "Selected rows: [ 3034  7247 11820  1748 16858 11471 17271  9433  9509  3319 16706  4408\n",
      "  4502  4611  5158  3538 19702 18121 11901  9485 15878  6110  4086 15276\n",
      " 14415 17698  5771 13809 12229  2092  5228  6353  9070 19571 16333 13630\n",
      "  8208 19580 15676 19487 17257  4328  5100 11355 12415   983 18655 15242\n",
      " 10190  7926 16323 18310 13785  5007 16659  1177 17942 10576  5166 19349\n",
      "  1425 16758 19162 10323  8647  7163 11191 18702 19234 10090  4252 13439\n",
      "  2807  4337 11265 10579  1052  1316   253 14312 19216 18406  8453  3202\n",
      "  9849  6068  8476 16800 13334  3672 11692 14810 15891 14683  4265  2764\n",
      " 19814  6331 11009 17524]\n",
      "Selected symbolic variables (by index): (9,)\n",
      "Zeroing out columns [154, 155, 156, 157, 158, 159, 160, 161, 162, 163, 164, 165, 166, 167, 168, 169] (corresponding to variable 9)\n",
      "\n",
      "Selected rows: [ 6750 10699 16270  3287  9739 17243 11361  3567 19993 16600 12414 18774\n",
      " 12965 12469  7128  5817 15019  8642 12697 17191 14790 13039 19916 19050\n",
      " 19563  8066 18718 13792  1129  4644 11044  6735  6423 19143 18910 15806\n",
      "  7708 10945  9614    80  6412  7692 16261 18160 13106 11708 13217 18125\n",
      " 10143 19586  8993  2884  3043  4806 16499  2172  6504  4998  3648 11585\n",
      " 14562  4846  6086  7514  9599   385  1554  2353  6651   936 10295 12626\n",
      " 14740 17823 11269  5205 19196  3752 14931 12810 11683 14624   567 16939\n",
      "  5449  4392 18995 17557 15198 17993 19531  5164 13398 11600 18711   727\n",
      " 19673 19388 13923 17762]\n",
      "Selected symbolic variables (by index): (10,)\n",
      "Zeroing out columns [170, 171, 172, 173, 174, 175, 176, 177, 178, 179, 180, 181, 182, 183, 184, 185] (corresponding to variable 10)\n",
      "\n",
      "Selected rows: [ 6170  1425 13482 16633 14112 19486 12579  2867  1520 16755 15777  3328\n",
      "   373 11701 14363  8273 15530  3488 15353 18547  7909 15829 14029  4552\n",
      "  3539 18097 14895  3448  9403  2149 11514 19876  2322  1148  5868 12375\n",
      " 16901  1898 15197  3185 11508  5109 11884 11147  6641  3793 15409 16311\n",
      "  4306 15547 11081 17087  1185  6381  6997 19283   278 15827 12117  5600\n",
      "  7063 15869 11291 11364  2528 16170 15030 12508 13507  9812  8707  9836\n",
      " 16895 16063  6235  8208 12147  2258 10992  1749  5334  3361 14478  3342\n",
      "  7999  8532  6768 14326  2637  3353 10690  4959 14115 17757 10135   296\n",
      "   876 14371 18474  6499]\n",
      "Selected symbolic variables (by index): (11,)\n",
      "Zeroing out columns [186, 187, 188, 189, 190, 191, 192, 193, 194, 195, 196, 197, 198, 199, 200, 201] (corresponding to variable 11)\n",
      "\n",
      "Selected rows: [ 1074  1647  6586  7427 18814  9319 16766  2914   868  8631 18321 17534\n",
      "  7921   254  5598  3446 14819  8965 19207 12204 15089 19999  7654  6349\n",
      "  3821  9967 17547 12412  8694  4952  6725  2642 12764  4041 14100  7133\n",
      "  2845  5645 12622  8480   258 16850  5191  9650  9785  4306  3392 11052\n",
      "  9060 18569 10988 17450   165 17208 14467 15618  1991 13041  9498  4280\n",
      "  6093 15101  6192  7377 18759  5510  9079 13444    36 10331 12982 10437\n",
      " 13610  9415  3431 10892  2859 19027 12869 18740 15415  8896 11947 10666\n",
      "  4279  1505  7224  2963 16027 14572  9068 19264  9768 13910  5470   127\n",
      " 14712  9056 11116 12865]\n",
      "Selected symbolic variables (by index): (12,)\n",
      "Zeroing out columns [202, 203, 204, 205, 206, 207, 208, 209, 210, 211, 212, 213, 214, 215, 216, 217] (corresponding to variable 12)\n",
      "\n",
      "Selected rows: [13477  4048 15905 15153   310 10962  8975  4390 10186 10776  9786 19031\n",
      "  8153 10363 10036 16596 15846  3539 11534  9193  9242 10839 11337  2424\n",
      "  6340 15177 18144 13599  5204  7140  6050  4319 10818  8739  2589 17466\n",
      "  2890 13612 13095 13606  3287 10236 16445   649 11303  5808 10075   776\n",
      " 19758 13679  7420 15698 17727 19450  2232   996  9325  8707  2803  4968\n",
      "  8659 19089  7779  9322   777  6070  1492 11024 10619 16546 13624 17043\n",
      " 17704 18250 14004 15215  4715 10905    65 12257  1761  3816 11165 16743\n",
      " 14195 16767 11667 12651  4145 14726 13546    20  6837 11791  4826  5319\n",
      "  2457 17862 14117 10450]\n",
      "Selected symbolic variables (by index): (13,)\n",
      "Zeroing out columns [218, 219, 220, 221, 222, 223, 224, 225, 226, 227, 228, 229, 230, 231, 232, 233] (corresponding to variable 13)\n",
      "\n",
      "Selected rows: [11854  6658  3206 12749    97 17654  5785 10567 14680 16255  1491 11432\n",
      "   321  5365 11318   815   945 10947 13876 14647  9559  6600 14373  3537\n",
      " 12209  5843  5048 16028  2289   431 16093   700  6088  2548 11169 15641\n",
      " 10246 16042  5837 17924 19339  7587   866 10691  1091   456 12971  8981\n",
      "  3578 15789   854 17213   927  6354  6128  9597   861 18009  9437  8689\n",
      " 16841 19306  6263  2976  8831 12572  7306 16329   984  2584 14519  3607\n",
      " 18667  3212   582  9045 11831  1391 12058  9862 11529  6678 14576  2158\n",
      "  3791  1930  7901 18092 11226  8656 12542 12179  3603    83 10226  4164\n",
      "  3963 17448 16480 10092]\n",
      "Selected symbolic variables (by index): (14,)\n",
      "Zeroing out columns [234, 235, 236, 237, 238, 239, 240, 241, 242, 243, 244, 245, 246, 247, 248, 249] (corresponding to variable 14)\n",
      "\n",
      "Selected rows: [16999  2740  3057  6918   911  4517  5700  3021 18561 11573  9747  2933\n",
      " 12859  5522 19069   413  3111  1986  9902 15536   270  5790 13247  8910\n",
      " 10091  8068  3128  8438 17381 19281 14521 11729 14908  1847  7609 10475\n",
      "  6409  7628  5087  3545 13899   961 15204 15629  5751 15776 18562   448\n",
      "  9682 16683 12603  9042 13733  5836 14184 17956 18833 15216  6977  7359\n",
      "  5689  8388  8255 16362 18898 10886 12015 14815  6856 17898  4807  6816\n",
      " 16660 14601  2473  3768  3952  2858  7415  1060 11985 11927 16520   296\n",
      " 17323  6908 17468 16012 13250  3413   421 12392 19022  5498  4221  8296\n",
      "  8310 12190 17321  8537]\n",
      "Selected symbolic variables (by index): (15,)\n",
      "Zeroing out columns [250, 251, 252, 253, 254, 255, 256, 257, 258, 259, 260, 261, 262, 263, 264, 265] (corresponding to variable 15)\n",
      "\n",
      "Selected rows: [17559 19470  3683  8296 12744  5911  4457 14589  4796  9812 12869  1932\n",
      " 10572 13113  7318 13455  5114   399 15987  6291 11321  4543 10131 13191\n",
      " 13388 18752 10993  6439  6663 17254 19375 10223  4683 12611 15649   768\n",
      " 11630 18617 10813 13301 14885 15513  5787  5728  1020 12445  1332  9410\n",
      " 18574  7487  4434  2874   404  2956   569 12185 10321 10313 14157 17105\n",
      " 17060 15132 11423 13997  2273 13126  5716 19305   192   971  3482  6006\n",
      " 10611  4424 16338 15664 14850   212 13059  2754 17210 19545 10629   231\n",
      " 19921  1225 14523  4528 17063   958 18535 14517 11828 18588 11434 15780\n",
      "  4058  9250  2618  3002]\n",
      "Selected symbolic variables (by index): (16,)\n",
      "Zeroing out columns [266, 267, 268, 269, 270, 271, 272, 273, 274, 275, 276, 277, 278, 279, 280, 281] (corresponding to variable 16)\n"
     ]
    },
    {
     "data": {
      "text/plain": "array([[0., 0., 0., ..., 0., 0., 0.],\n       [0., 0., 0., ..., 0., 0., 0.],\n       [0., 0., 0., ..., 0., 0., 0.],\n       ...,\n       [0., 0., 0., ..., 0., 0., 0.],\n       [0., 0., 0., ..., 0., 0., 0.],\n       [1., 0., 0., ..., 0., 0., 0.]])"
     },
     "execution_count": 9,
     "metadata": {},
     "output_type": "execute_result"
    }
   ],
   "source": [
    "df_encoded_copy = df_encoded.copy()\n",
    "X_missing_values = adding_missing_values(df_encoded_copy, indices, 1, 100)\n",
    "\n",
    "X_missing_values"
   ],
   "metadata": {
    "collapsed": false,
    "ExecuteTime": {
     "end_time": "2025-08-06T15:19:29.331823Z",
     "start_time": "2025-08-06T15:19:29.301085Z"
    }
   },
   "id": "f16e1c065fedc0",
   "execution_count": 9
  },
  {
   "cell_type": "markdown",
   "source": [
    "## Prepare Data for training and testing"
   ],
   "metadata": {
    "collapsed": false
   },
   "id": "f0c4be78c1aceb77"
  },
  {
   "cell_type": "code",
   "outputs": [],
   "source": [
    "X_train, X_test, y_train, y_test = train_test_split(X_missing_values, df_encoded_copy, test_size=0.2, random_state=42)\n"
   ],
   "metadata": {
    "collapsed": false,
    "ExecuteTime": {
     "end_time": "2025-08-06T15:28:26.754546Z",
     "start_time": "2025-08-06T15:28:26.724743Z"
    }
   },
   "id": "3d826a54d472d688",
   "execution_count": 11
  },
  {
   "cell_type": "markdown",
   "source": [
    "# Constructing MLP using Keras"
   ],
   "metadata": {
    "collapsed": false
   },
   "id": "ce5acc76d58fc6eb"
  },
  {
   "cell_type": "code",
   "outputs": [],
   "source": [
    "input_dim = X_train.shape[1]\n",
    "\n",
    "model = keras.Sequential([\n",
    "    layers.Input(shape=(input_dim,)),\n",
    "    layers.Dense(128, activation='relu'),\n",
    "    layers.Dense(input_dim, activation='sigmoid')  # output binario\n",
    "])"
   ],
   "metadata": {
    "collapsed": false,
    "ExecuteTime": {
     "end_time": "2025-08-06T15:28:33.840274Z",
     "start_time": "2025-08-06T15:28:33.759025Z"
    }
   },
   "id": "21d4d17169b62e24",
   "execution_count": 12
  },
  {
   "cell_type": "code",
   "outputs": [],
   "source": [
    "\n",
    "model.compile(optimizer='adam', loss='binary_crossentropy', metrics=[BinaryAccuracy(name=\"bit_accuracy\")])\n"
   ],
   "metadata": {
    "collapsed": false,
    "ExecuteTime": {
     "end_time": "2025-08-06T15:28:34.805599Z",
     "start_time": "2025-08-06T15:28:34.797462Z"
    }
   },
   "id": "c0647bfada64b43c",
   "execution_count": 13
  },
  {
   "cell_type": "markdown",
   "source": [
    "# Training the model"
   ],
   "metadata": {
    "collapsed": false
   },
   "id": "8b87a806b1fabe16"
  },
  {
   "cell_type": "code",
   "outputs": [
    {
     "name": "stdout",
     "output_type": "stream",
     "text": [
      "Epoch 1/50\n",
      "\u001B[1m400/400\u001B[0m \u001B[32m━━━━━━━━━━━━━━━━━━━━\u001B[0m\u001B[37m\u001B[0m \u001B[1m1s\u001B[0m 2ms/step - bit_accuracy: 0.9431 - loss: 0.1671 - val_bit_accuracy: 0.9700 - val_loss: 0.0865\n",
      "Epoch 2/50\n",
      "\u001B[1m400/400\u001B[0m \u001B[32m━━━━━━━━━━━━━━━━━━━━\u001B[0m\u001B[37m\u001B[0m \u001B[1m1s\u001B[0m 1ms/step - bit_accuracy: 0.9814 - loss: 0.0569 - val_bit_accuracy: 0.9886 - val_loss: 0.0375\n",
      "Epoch 3/50\n",
      "\u001B[1m400/400\u001B[0m \u001B[32m━━━━━━━━━━━━━━━━━━━━\u001B[0m\u001B[37m\u001B[0m \u001B[1m1s\u001B[0m 1ms/step - bit_accuracy: 0.9921 - loss: 0.0274 - val_bit_accuracy: 0.9940 - val_loss: 0.0215\n",
      "Epoch 4/50\n",
      "\u001B[1m400/400\u001B[0m \u001B[32m━━━━━━━━━━━━━━━━━━━━\u001B[0m\u001B[37m\u001B[0m \u001B[1m1s\u001B[0m 1ms/step - bit_accuracy: 0.9956 - loss: 0.0162 - val_bit_accuracy: 0.9960 - val_loss: 0.0145\n",
      "Epoch 5/50\n",
      "\u001B[1m400/400\u001B[0m \u001B[32m━━━━━━━━━━━━━━━━━━━━\u001B[0m\u001B[37m\u001B[0m \u001B[1m1s\u001B[0m 1ms/step - bit_accuracy: 0.9972 - loss: 0.0107 - val_bit_accuracy: 0.9971 - val_loss: 0.0106\n",
      "Epoch 6/50\n",
      "\u001B[1m400/400\u001B[0m \u001B[32m━━━━━━━━━━━━━━━━━━━━\u001B[0m\u001B[37m\u001B[0m \u001B[1m1s\u001B[0m 1ms/step - bit_accuracy: 0.9981 - loss: 0.0077 - val_bit_accuracy: 0.9977 - val_loss: 0.0086\n",
      "Epoch 7/50\n",
      "\u001B[1m400/400\u001B[0m \u001B[32m━━━━━━━━━━━━━━━━━━━━\u001B[0m\u001B[37m\u001B[0m \u001B[1m1s\u001B[0m 1ms/step - bit_accuracy: 0.9987 - loss: 0.0057 - val_bit_accuracy: 0.9981 - val_loss: 0.0070\n",
      "Epoch 8/50\n",
      "\u001B[1m400/400\u001B[0m \u001B[32m━━━━━━━━━━━━━━━━━━━━\u001B[0m\u001B[37m\u001B[0m \u001B[1m0s\u001B[0m 1ms/step - bit_accuracy: 0.9990 - loss: 0.0044 - val_bit_accuracy: 0.9985 - val_loss: 0.0059\n",
      "Epoch 9/50\n",
      "\u001B[1m400/400\u001B[0m \u001B[32m━━━━━━━━━━━━━━━━━━━━\u001B[0m\u001B[37m\u001B[0m \u001B[1m0s\u001B[0m 1ms/step - bit_accuracy: 0.9992 - loss: 0.0035 - val_bit_accuracy: 0.9986 - val_loss: 0.0054\n",
      "Epoch 10/50\n",
      "\u001B[1m400/400\u001B[0m \u001B[32m━━━━━━━━━━━━━━━━━━━━\u001B[0m\u001B[37m\u001B[0m \u001B[1m0s\u001B[0m 1ms/step - bit_accuracy: 0.9994 - loss: 0.0029 - val_bit_accuracy: 0.9987 - val_loss: 0.0049\n",
      "Epoch 11/50\n",
      "\u001B[1m400/400\u001B[0m \u001B[32m━━━━━━━━━━━━━━━━━━━━\u001B[0m\u001B[37m\u001B[0m \u001B[1m0s\u001B[0m 1ms/step - bit_accuracy: 0.9995 - loss: 0.0023 - val_bit_accuracy: 0.9988 - val_loss: 0.0047\n",
      "Epoch 12/50\n",
      "\u001B[1m400/400\u001B[0m \u001B[32m━━━━━━━━━━━━━━━━━━━━\u001B[0m\u001B[37m\u001B[0m \u001B[1m1s\u001B[0m 1ms/step - bit_accuracy: 0.9996 - loss: 0.0020 - val_bit_accuracy: 0.9989 - val_loss: 0.0044\n",
      "Epoch 13/50\n",
      "\u001B[1m400/400\u001B[0m \u001B[32m━━━━━━━━━━━━━━━━━━━━\u001B[0m\u001B[37m\u001B[0m \u001B[1m1s\u001B[0m 1ms/step - bit_accuracy: 0.9997 - loss: 0.0016 - val_bit_accuracy: 0.9990 - val_loss: 0.0041\n",
      "Epoch 14/50\n",
      "\u001B[1m400/400\u001B[0m \u001B[32m━━━━━━━━━━━━━━━━━━━━\u001B[0m\u001B[37m\u001B[0m \u001B[1m1s\u001B[0m 1ms/step - bit_accuracy: 0.9997 - loss: 0.0014 - val_bit_accuracy: 0.9990 - val_loss: 0.0041\n",
      "Epoch 15/50\n",
      "\u001B[1m400/400\u001B[0m \u001B[32m━━━━━━━━━━━━━━━━━━━━\u001B[0m\u001B[37m\u001B[0m \u001B[1m1s\u001B[0m 1ms/step - bit_accuracy: 0.9998 - loss: 0.0012 - val_bit_accuracy: 0.9990 - val_loss: 0.0041\n",
      "Epoch 16/50\n",
      "\u001B[1m400/400\u001B[0m \u001B[32m━━━━━━━━━━━━━━━━━━━━\u001B[0m\u001B[37m\u001B[0m \u001B[1m0s\u001B[0m 1ms/step - bit_accuracy: 0.9998 - loss: 0.0011 - val_bit_accuracy: 0.9990 - val_loss: 0.0041\n",
      "Epoch 17/50\n",
      "\u001B[1m400/400\u001B[0m \u001B[32m━━━━━━━━━━━━━━━━━━━━\u001B[0m\u001B[37m\u001B[0m \u001B[1m0s\u001B[0m 1ms/step - bit_accuracy: 0.9998 - loss: 9.8183e-04 - val_bit_accuracy: 0.9990 - val_loss: 0.0039\n",
      "Epoch 18/50\n",
      "\u001B[1m400/400\u001B[0m \u001B[32m━━━━━━━━━━━━━━━━━━━━\u001B[0m\u001B[37m\u001B[0m \u001B[1m1s\u001B[0m 2ms/step - bit_accuracy: 0.9998 - loss: 8.3734e-04 - val_bit_accuracy: 0.9990 - val_loss: 0.0040\n",
      "Epoch 19/50\n",
      "\u001B[1m400/400\u001B[0m \u001B[32m━━━━━━━━━━━━━━━━━━━━\u001B[0m\u001B[37m\u001B[0m \u001B[1m1s\u001B[0m 2ms/step - bit_accuracy: 0.9998 - loss: 7.6280e-04 - val_bit_accuracy: 0.9990 - val_loss: 0.0039\n",
      "Epoch 20/50\n",
      "\u001B[1m400/400\u001B[0m \u001B[32m━━━━━━━━━━━━━━━━━━━━\u001B[0m\u001B[37m\u001B[0m \u001B[1m1s\u001B[0m 1ms/step - bit_accuracy: 0.9999 - loss: 6.9188e-04 - val_bit_accuracy: 0.9991 - val_loss: 0.0037\n",
      "Epoch 21/50\n",
      "\u001B[1m400/400\u001B[0m \u001B[32m━━━━━━━━━━━━━━━━━━━━\u001B[0m\u001B[37m\u001B[0m \u001B[1m1s\u001B[0m 1ms/step - bit_accuracy: 0.9999 - loss: 5.9041e-04 - val_bit_accuracy: 0.9991 - val_loss: 0.0037\n",
      "Epoch 22/50\n",
      "\u001B[1m400/400\u001B[0m \u001B[32m━━━━━━━━━━━━━━━━━━━━\u001B[0m\u001B[37m\u001B[0m \u001B[1m1s\u001B[0m 2ms/step - bit_accuracy: 0.9999 - loss: 5.6263e-04 - val_bit_accuracy: 0.9992 - val_loss: 0.0039\n",
      "Epoch 23/50\n",
      "\u001B[1m400/400\u001B[0m \u001B[32m━━━━━━━━━━━━━━━━━━━━\u001B[0m\u001B[37m\u001B[0m \u001B[1m1s\u001B[0m 1ms/step - bit_accuracy: 0.9999 - loss: 5.2755e-04 - val_bit_accuracy: 0.9991 - val_loss: 0.0038\n",
      "Epoch 24/50\n",
      "\u001B[1m400/400\u001B[0m \u001B[32m━━━━━━━━━━━━━━━━━━━━\u001B[0m\u001B[37m\u001B[0m \u001B[1m1s\u001B[0m 1ms/step - bit_accuracy: 0.9999 - loss: 4.8077e-04 - val_bit_accuracy: 0.9992 - val_loss: 0.0039\n",
      "Epoch 25/50\n",
      "\u001B[1m400/400\u001B[0m \u001B[32m━━━━━━━━━━━━━━━━━━━━\u001B[0m\u001B[37m\u001B[0m \u001B[1m1s\u001B[0m 2ms/step - bit_accuracy: 0.9999 - loss: 4.7097e-04 - val_bit_accuracy: 0.9992 - val_loss: 0.0037\n",
      "Epoch 26/50\n",
      "\u001B[1m400/400\u001B[0m \u001B[32m━━━━━━━━━━━━━━━━━━━━\u001B[0m\u001B[37m\u001B[0m \u001B[1m1s\u001B[0m 1ms/step - bit_accuracy: 0.9999 - loss: 4.0561e-04 - val_bit_accuracy: 0.9992 - val_loss: 0.0038\n",
      "Epoch 27/50\n",
      "\u001B[1m400/400\u001B[0m \u001B[32m━━━━━━━━━━━━━━━━━━━━\u001B[0m\u001B[37m\u001B[0m \u001B[1m1s\u001B[0m 1ms/step - bit_accuracy: 0.9999 - loss: 3.7400e-04 - val_bit_accuracy: 0.9992 - val_loss: 0.0037\n",
      "Epoch 28/50\n",
      "\u001B[1m400/400\u001B[0m \u001B[32m━━━━━━━━━━━━━━━━━━━━\u001B[0m\u001B[37m\u001B[0m \u001B[1m1s\u001B[0m 2ms/step - bit_accuracy: 0.9999 - loss: 3.6807e-04 - val_bit_accuracy: 0.9991 - val_loss: 0.0040\n",
      "Epoch 29/50\n",
      "\u001B[1m400/400\u001B[0m \u001B[32m━━━━━━━━━━━━━━━━━━━━\u001B[0m\u001B[37m\u001B[0m \u001B[1m1s\u001B[0m 2ms/step - bit_accuracy: 0.9999 - loss: 3.3813e-04 - val_bit_accuracy: 0.9991 - val_loss: 0.0040\n",
      "Epoch 30/50\n",
      "\u001B[1m400/400\u001B[0m \u001B[32m━━━━━━━━━━━━━━━━━━━━\u001B[0m\u001B[37m\u001B[0m \u001B[1m1s\u001B[0m 1ms/step - bit_accuracy: 0.9999 - loss: 2.9425e-04 - val_bit_accuracy: 0.9992 - val_loss: 0.0040\n",
      "Epoch 31/50\n",
      "\u001B[1m400/400\u001B[0m \u001B[32m━━━━━━━━━━━━━━━━━━━━\u001B[0m\u001B[37m\u001B[0m \u001B[1m1s\u001B[0m 2ms/step - bit_accuracy: 0.9999 - loss: 3.1784e-04 - val_bit_accuracy: 0.9992 - val_loss: 0.0039\n",
      "Epoch 32/50\n",
      "\u001B[1m400/400\u001B[0m \u001B[32m━━━━━━━━━━━━━━━━━━━━\u001B[0m\u001B[37m\u001B[0m \u001B[1m1s\u001B[0m 1ms/step - bit_accuracy: 0.9999 - loss: 3.4256e-04 - val_bit_accuracy: 0.9992 - val_loss: 0.0041\n",
      "Epoch 33/50\n",
      "\u001B[1m400/400\u001B[0m \u001B[32m━━━━━━━━━━━━━━━━━━━━\u001B[0m\u001B[37m\u001B[0m \u001B[1m1s\u001B[0m 2ms/step - bit_accuracy: 0.9999 - loss: 3.5216e-04 - val_bit_accuracy: 0.9992 - val_loss: 0.0040\n",
      "Epoch 34/50\n",
      "\u001B[1m400/400\u001B[0m \u001B[32m━━━━━━━━━━━━━━━━━━━━\u001B[0m\u001B[37m\u001B[0m \u001B[1m1s\u001B[0m 2ms/step - bit_accuracy: 0.9999 - loss: 2.5625e-04 - val_bit_accuracy: 0.9992 - val_loss: 0.0038\n",
      "Epoch 35/50\n",
      "\u001B[1m400/400\u001B[0m \u001B[32m━━━━━━━━━━━━━━━━━━━━\u001B[0m\u001B[37m\u001B[0m \u001B[1m1s\u001B[0m 1ms/step - bit_accuracy: 0.9999 - loss: 2.8104e-04 - val_bit_accuracy: 0.9992 - val_loss: 0.0039\n",
      "Epoch 36/50\n",
      "\u001B[1m400/400\u001B[0m \u001B[32m━━━━━━━━━━━━━━━━━━━━\u001B[0m\u001B[37m\u001B[0m \u001B[1m1s\u001B[0m 1ms/step - bit_accuracy: 1.0000 - loss: 1.9239e-04 - val_bit_accuracy: 0.9992 - val_loss: 0.0039\n",
      "Epoch 37/50\n",
      "\u001B[1m400/400\u001B[0m \u001B[32m━━━━━━━━━━━━━━━━━━━━\u001B[0m\u001B[37m\u001B[0m \u001B[1m1s\u001B[0m 1ms/step - bit_accuracy: 1.0000 - loss: 1.9356e-04 - val_bit_accuracy: 0.9992 - val_loss: 0.0040\n",
      "Epoch 38/50\n",
      "\u001B[1m400/400\u001B[0m \u001B[32m━━━━━━━━━━━━━━━━━━━━\u001B[0m\u001B[37m\u001B[0m \u001B[1m1s\u001B[0m 1ms/step - bit_accuracy: 1.0000 - loss: 1.7302e-04 - val_bit_accuracy: 0.9992 - val_loss: 0.0041\n",
      "Epoch 39/50\n",
      "\u001B[1m400/400\u001B[0m \u001B[32m━━━━━━━━━━━━━━━━━━━━\u001B[0m\u001B[37m\u001B[0m \u001B[1m0s\u001B[0m 1ms/step - bit_accuracy: 0.9999 - loss: 2.8429e-04 - val_bit_accuracy: 0.9992 - val_loss: 0.0043\n",
      "Epoch 40/50\n",
      "\u001B[1m400/400\u001B[0m \u001B[32m━━━━━━━━━━━━━━━━━━━━\u001B[0m\u001B[37m\u001B[0m \u001B[1m1s\u001B[0m 1ms/step - bit_accuracy: 0.9999 - loss: 3.1130e-04 - val_bit_accuracy: 0.9991 - val_loss: 0.0046\n",
      "Epoch 41/50\n",
      "\u001B[1m400/400\u001B[0m \u001B[32m━━━━━━━━━━━━━━━━━━━━\u001B[0m\u001B[37m\u001B[0m \u001B[1m0s\u001B[0m 1ms/step - bit_accuracy: 0.9999 - loss: 3.3843e-04 - val_bit_accuracy: 0.9991 - val_loss: 0.0042\n",
      "Epoch 42/50\n",
      "\u001B[1m400/400\u001B[0m \u001B[32m━━━━━━━━━━━━━━━━━━━━\u001B[0m\u001B[37m\u001B[0m \u001B[1m1s\u001B[0m 1ms/step - bit_accuracy: 0.9999 - loss: 3.1401e-04 - val_bit_accuracy: 0.9992 - val_loss: 0.0041\n",
      "Epoch 43/50\n",
      "\u001B[1m400/400\u001B[0m \u001B[32m━━━━━━━━━━━━━━━━━━━━\u001B[0m\u001B[37m\u001B[0m \u001B[1m1s\u001B[0m 1ms/step - bit_accuracy: 1.0000 - loss: 1.7051e-04 - val_bit_accuracy: 0.9992 - val_loss: 0.0039\n",
      "Epoch 44/50\n",
      "\u001B[1m400/400\u001B[0m \u001B[32m━━━━━━━━━━━━━━━━━━━━\u001B[0m\u001B[37m\u001B[0m \u001B[1m1s\u001B[0m 2ms/step - bit_accuracy: 1.0000 - loss: 1.3264e-04 - val_bit_accuracy: 0.9992 - val_loss: 0.0042\n",
      "Epoch 45/50\n",
      "\u001B[1m400/400\u001B[0m \u001B[32m━━━━━━━━━━━━━━━━━━━━\u001B[0m\u001B[37m\u001B[0m \u001B[1m1s\u001B[0m 1ms/step - bit_accuracy: 1.0000 - loss: 1.2973e-04 - val_bit_accuracy: 0.9993 - val_loss: 0.0040\n",
      "Epoch 46/50\n",
      "\u001B[1m400/400\u001B[0m \u001B[32m━━━━━━━━━━━━━━━━━━━━\u001B[0m\u001B[37m\u001B[0m \u001B[1m1s\u001B[0m 2ms/step - bit_accuracy: 1.0000 - loss: 1.7227e-04 - val_bit_accuracy: 0.9993 - val_loss: 0.0038\n",
      "Epoch 47/50\n",
      "\u001B[1m400/400\u001B[0m \u001B[32m━━━━━━━━━━━━━━━━━━━━\u001B[0m\u001B[37m\u001B[0m \u001B[1m1s\u001B[0m 1ms/step - bit_accuracy: 0.9999 - loss: 2.5208e-04 - val_bit_accuracy: 0.9992 - val_loss: 0.0042\n",
      "Epoch 48/50\n",
      "\u001B[1m400/400\u001B[0m \u001B[32m━━━━━━━━━━━━━━━━━━━━\u001B[0m\u001B[37m\u001B[0m \u001B[1m1s\u001B[0m 1ms/step - bit_accuracy: 0.9999 - loss: 2.9258e-04 - val_bit_accuracy: 0.9992 - val_loss: 0.0043\n",
      "Epoch 49/50\n",
      "\u001B[1m400/400\u001B[0m \u001B[32m━━━━━━━━━━━━━━━━━━━━\u001B[0m\u001B[37m\u001B[0m \u001B[1m1s\u001B[0m 2ms/step - bit_accuracy: 0.9999 - loss: 2.6143e-04 - val_bit_accuracy: 0.9992 - val_loss: 0.0043\n",
      "Epoch 50/50\n",
      "\u001B[1m400/400\u001B[0m \u001B[32m━━━━━━━━━━━━━━━━━━━━\u001B[0m\u001B[37m\u001B[0m \u001B[1m1s\u001B[0m 1ms/step - bit_accuracy: 0.9999 - loss: 2.0413e-04 - val_bit_accuracy: 0.9992 - val_loss: 0.0041\n"
     ]
    }
   ],
   "source": [
    "history = model.fit(\n",
    "    X_train, y_train,\n",
    "    epochs=50,\n",
    "    batch_size=32,\n",
    "    validation_split=0.2,\n",
    "    verbose=1\n",
    ")\n"
   ],
   "metadata": {
    "collapsed": false,
    "ExecuteTime": {
     "end_time": "2025-08-03T12:16:55.819743Z",
     "start_time": "2025-08-03T12:16:26.678511Z"
    }
   },
   "id": "db474d9bd4a6742d",
   "execution_count": 314
  },
  {
   "cell_type": "code",
   "outputs": [],
   "source": [],
   "metadata": {
    "collapsed": false,
    "ExecuteTime": {
     "end_time": "2025-08-03T12:16:55.823212Z",
     "start_time": "2025-08-03T12:16:55.821342Z"
    }
   },
   "id": "9e28bc7c88fa1424",
   "execution_count": 314
  },
  {
   "cell_type": "markdown",
   "source": [
    "# Testing\n"
   ],
   "metadata": {
    "collapsed": false
   },
   "id": "36075f8cd604f01"
  },
  {
   "cell_type": "code",
   "outputs": [
    {
     "name": "stdout",
     "output_type": "stream",
     "text": [
      "\u001B[1m125/125\u001B[0m \u001B[32m━━━━━━━━━━━━━━━━━━━━\u001B[0m\u001B[37m\u001B[0m \u001B[1m0s\u001B[0m 535us/step\n",
      "0.9996708630837583\n"
     ]
    }
   ],
   "source": [
    "# Predizione\n",
    "y_pred = model.predict(X_test)\n",
    "\n",
    "# Binarizzazione con soglia 0.8\n",
    "y_pred_binary = (y_pred > 0.8).astype(int)\n",
    "\n",
    "# Accuracy su tutti i bit\n",
    "accuracy_letter1 = (y_pred_binary == y_test).mean()\n",
    "\n",
    "# Accuracy solo sui bit mancanti\n",
    "test_mask = (X_test != 0).astype(int)\n",
    "missing_mask = (test_mask == 0)\n",
    "correct_missing = (y_pred_binary == y_test) & missing_mask\n",
    "accuracy_missing = correct_missing.sum() / missing_mask.sum()\n",
    "\n",
    "print(accuracy_missing)"
   ],
   "metadata": {
    "collapsed": false,
    "ExecuteTime": {
     "end_time": "2025-08-06T15:34:46.480660Z",
     "start_time": "2025-08-06T15:34:46.338055Z"
    }
   },
   "id": "bf9c381ce163cb03",
   "execution_count": 15
  },
  {
   "cell_type": "markdown",
   "source": [
    "# Now i'm gonna test if the model can predict missing values using a different value of K"
   ],
   "metadata": {
    "collapsed": false
   },
   "id": "7b4aab7548b92a33"
  },
  {
   "cell_type": "markdown",
   "source": [],
   "metadata": {
    "collapsed": false
   },
   "id": "d98b320a19931f6d"
  },
  {
   "cell_type": "code",
   "outputs": [
    {
     "name": "stdout",
     "output_type": "stream",
     "text": [
      "ERROR! Session/line number was not unique in database. History logging moved to new session 590\n",
      "Epoch 1/50\n",
      "\u001B[1m400/400\u001B[0m \u001B[32m━━━━━━━━━━━━━━━━━━━━\u001B[0m\u001B[37m\u001B[0m \u001B[1m1s\u001B[0m 1ms/step - bit_accuracy: 0.9397 - loss: 0.3137 - val_bit_accuracy: 0.9397 - val_loss: 0.1889\n",
      "Epoch 2/50\n",
      "\u001B[1m400/400\u001B[0m \u001B[32m━━━━━━━━━━━━━━━━━━━━\u001B[0m\u001B[37m\u001B[0m \u001B[1m1s\u001B[0m 1ms/step - bit_accuracy: 0.9397 - loss: 0.1892 - val_bit_accuracy: 0.9397 - val_loss: 0.1887\n",
      "Epoch 3/50\n",
      "\u001B[1m400/400\u001B[0m \u001B[32m━━━━━━━━━━━━━━━━━━━━\u001B[0m\u001B[37m\u001B[0m \u001B[1m1s\u001B[0m 1ms/step - bit_accuracy: 0.9397 - loss: 0.1891 - val_bit_accuracy: 0.9397 - val_loss: 0.1886\n",
      "Epoch 4/50\n",
      "\u001B[1m400/400\u001B[0m \u001B[32m━━━━━━━━━━━━━━━━━━━━\u001B[0m\u001B[37m\u001B[0m \u001B[1m0s\u001B[0m 1ms/step - bit_accuracy: 0.9397 - loss: 0.1891 - val_bit_accuracy: 0.9397 - val_loss: 0.1886\n",
      "Epoch 5/50\n",
      "\u001B[1m400/400\u001B[0m \u001B[32m━━━━━━━━━━━━━━━━━━━━\u001B[0m\u001B[37m\u001B[0m \u001B[1m0s\u001B[0m 1ms/step - bit_accuracy: 0.9397 - loss: 0.1890 - val_bit_accuracy: 0.9397 - val_loss: 0.1886\n",
      "Epoch 6/50\n",
      "\u001B[1m400/400\u001B[0m \u001B[32m━━━━━━━━━━━━━━━━━━━━\u001B[0m\u001B[37m\u001B[0m \u001B[1m0s\u001B[0m 1ms/step - bit_accuracy: 0.9397 - loss: 0.1890 - val_bit_accuracy: 0.9397 - val_loss: 0.1886\n",
      "Epoch 7/50\n",
      "\u001B[1m400/400\u001B[0m \u001B[32m━━━━━━━━━━━━━━━━━━━━\u001B[0m\u001B[37m\u001B[0m \u001B[1m0s\u001B[0m 1ms/step - bit_accuracy: 0.9397 - loss: 0.1890 - val_bit_accuracy: 0.9397 - val_loss: 0.1886\n",
      "Epoch 8/50\n",
      "\u001B[1m400/400\u001B[0m \u001B[32m━━━━━━━━━━━━━━━━━━━━\u001B[0m\u001B[37m\u001B[0m \u001B[1m1s\u001B[0m 1ms/step - bit_accuracy: 0.9397 - loss: 0.1890 - val_bit_accuracy: 0.9397 - val_loss: 0.1886\n",
      "Epoch 9/50\n",
      "\u001B[1m400/400\u001B[0m \u001B[32m━━━━━━━━━━━━━━━━━━━━\u001B[0m\u001B[37m\u001B[0m \u001B[1m0s\u001B[0m 1ms/step - bit_accuracy: 0.9397 - loss: 0.1890 - val_bit_accuracy: 0.9397 - val_loss: 0.1886\n",
      "Epoch 10/50\n",
      "\u001B[1m400/400\u001B[0m \u001B[32m━━━━━━━━━━━━━━━━━━━━\u001B[0m\u001B[37m\u001B[0m \u001B[1m1s\u001B[0m 1ms/step - bit_accuracy: 0.9397 - loss: 0.1890 - val_bit_accuracy: 0.9397 - val_loss: 0.1886\n",
      "Epoch 11/50\n",
      "\u001B[1m400/400\u001B[0m \u001B[32m━━━━━━━━━━━━━━━━━━━━\u001B[0m\u001B[37m\u001B[0m \u001B[1m0s\u001B[0m 1ms/step - bit_accuracy: 0.9397 - loss: 0.1890 - val_bit_accuracy: 0.9397 - val_loss: 0.1886\n",
      "Epoch 12/50\n",
      "\u001B[1m400/400\u001B[0m \u001B[32m━━━━━━━━━━━━━━━━━━━━\u001B[0m\u001B[37m\u001B[0m \u001B[1m0s\u001B[0m 1ms/step - bit_accuracy: 0.9397 - loss: 0.1890 - val_bit_accuracy: 0.9397 - val_loss: 0.1886\n",
      "Epoch 13/50\n",
      "\u001B[1m400/400\u001B[0m \u001B[32m━━━━━━━━━━━━━━━━━━━━\u001B[0m\u001B[37m\u001B[0m \u001B[1m0s\u001B[0m 1ms/step - bit_accuracy: 0.9397 - loss: 0.1890 - val_bit_accuracy: 0.9397 - val_loss: 0.1886\n",
      "Epoch 14/50\n",
      "\u001B[1m400/400\u001B[0m \u001B[32m━━━━━━━━━━━━━━━━━━━━\u001B[0m\u001B[37m\u001B[0m \u001B[1m1s\u001B[0m 1ms/step - bit_accuracy: 0.9397 - loss: 0.1889 - val_bit_accuracy: 0.9397 - val_loss: 0.1886\n",
      "Epoch 15/50\n",
      "\u001B[1m400/400\u001B[0m \u001B[32m━━━━━━━━━━━━━━━━━━━━\u001B[0m\u001B[37m\u001B[0m \u001B[1m0s\u001B[0m 1ms/step - bit_accuracy: 0.9397 - loss: 0.1889 - val_bit_accuracy: 0.9397 - val_loss: 0.1886\n",
      "Epoch 16/50\n",
      "\u001B[1m400/400\u001B[0m \u001B[32m━━━━━━━━━━━━━━━━━━━━\u001B[0m\u001B[37m\u001B[0m \u001B[1m1s\u001B[0m 1ms/step - bit_accuracy: 0.9397 - loss: 0.1889 - val_bit_accuracy: 0.9397 - val_loss: 0.1887\n",
      "Epoch 17/50\n",
      "\u001B[1m400/400\u001B[0m \u001B[32m━━━━━━━━━━━━━━━━━━━━\u001B[0m\u001B[37m\u001B[0m \u001B[1m0s\u001B[0m 1ms/step - bit_accuracy: 0.9397 - loss: 0.1889 - val_bit_accuracy: 0.9397 - val_loss: 0.1886\n",
      "Epoch 18/50\n",
      "\u001B[1m400/400\u001B[0m \u001B[32m━━━━━━━━━━━━━━━━━━━━\u001B[0m\u001B[37m\u001B[0m \u001B[1m1s\u001B[0m 1ms/step - bit_accuracy: 0.9397 - loss: 0.1889 - val_bit_accuracy: 0.9397 - val_loss: 0.1887\n",
      "Epoch 19/50\n",
      "\u001B[1m400/400\u001B[0m \u001B[32m━━━━━━━━━━━━━━━━━━━━\u001B[0m\u001B[37m\u001B[0m \u001B[1m0s\u001B[0m 1ms/step - bit_accuracy: 0.9397 - loss: 0.1889 - val_bit_accuracy: 0.9397 - val_loss: 0.1886\n",
      "Epoch 20/50\n",
      "\u001B[1m400/400\u001B[0m \u001B[32m━━━━━━━━━━━━━━━━━━━━\u001B[0m\u001B[37m\u001B[0m \u001B[1m0s\u001B[0m 1ms/step - bit_accuracy: 0.9397 - loss: 0.1888 - val_bit_accuracy: 0.9397 - val_loss: 0.1886\n",
      "Epoch 21/50\n",
      "\u001B[1m400/400\u001B[0m \u001B[32m━━━━━━━━━━━━━━━━━━━━\u001B[0m\u001B[37m\u001B[0m \u001B[1m0s\u001B[0m 1ms/step - bit_accuracy: 0.9397 - loss: 0.1888 - val_bit_accuracy: 0.9397 - val_loss: 0.1886\n",
      "Epoch 22/50\n",
      "\u001B[1m400/400\u001B[0m \u001B[32m━━━━━━━━━━━━━━━━━━━━\u001B[0m\u001B[37m\u001B[0m \u001B[1m0s\u001B[0m 1ms/step - bit_accuracy: 0.9397 - loss: 0.1888 - val_bit_accuracy: 0.9397 - val_loss: 0.1886\n",
      "Epoch 23/50\n",
      "\u001B[1m400/400\u001B[0m \u001B[32m━━━━━━━━━━━━━━━━━━━━\u001B[0m\u001B[37m\u001B[0m \u001B[1m0s\u001B[0m 1ms/step - bit_accuracy: 0.9397 - loss: 0.1888 - val_bit_accuracy: 0.9397 - val_loss: 0.1886\n",
      "Epoch 24/50\n",
      "\u001B[1m400/400\u001B[0m \u001B[32m━━━━━━━━━━━━━━━━━━━━\u001B[0m\u001B[37m\u001B[0m \u001B[1m0s\u001B[0m 1ms/step - bit_accuracy: 0.9398 - loss: 0.1888 - val_bit_accuracy: 0.9397 - val_loss: 0.1886\n",
      "Epoch 25/50\n",
      "\u001B[1m400/400\u001B[0m \u001B[32m━━━━━━━━━━━━━━━━━━━━\u001B[0m\u001B[37m\u001B[0m \u001B[1m1s\u001B[0m 1ms/step - bit_accuracy: 0.9398 - loss: 0.1888 - val_bit_accuracy: 0.9397 - val_loss: 0.1887\n",
      "Epoch 26/50\n",
      "\u001B[1m400/400\u001B[0m \u001B[32m━━━━━━━━━━━━━━━━━━━━\u001B[0m\u001B[37m\u001B[0m \u001B[1m0s\u001B[0m 1ms/step - bit_accuracy: 0.9398 - loss: 0.1888 - val_bit_accuracy: 0.9397 - val_loss: 0.1886\n",
      "Epoch 27/50\n",
      "\u001B[1m400/400\u001B[0m \u001B[32m━━━━━━━━━━━━━━━━━━━━\u001B[0m\u001B[37m\u001B[0m \u001B[1m0s\u001B[0m 1ms/step - bit_accuracy: 0.9398 - loss: 0.1888 - val_bit_accuracy: 0.9397 - val_loss: 0.1887\n",
      "Epoch 28/50\n",
      "\u001B[1m400/400\u001B[0m \u001B[32m━━━━━━━━━━━━━━━━━━━━\u001B[0m\u001B[37m\u001B[0m \u001B[1m0s\u001B[0m 1ms/step - bit_accuracy: 0.9398 - loss: 0.1887 - val_bit_accuracy: 0.9397 - val_loss: 0.1886\n",
      "Epoch 29/50\n",
      "\u001B[1m400/400\u001B[0m \u001B[32m━━━━━━━━━━━━━━━━━━━━\u001B[0m\u001B[37m\u001B[0m \u001B[1m1s\u001B[0m 1ms/step - bit_accuracy: 0.9398 - loss: 0.1887 - val_bit_accuracy: 0.9397 - val_loss: 0.1887\n",
      "Epoch 30/50\n",
      "\u001B[1m400/400\u001B[0m \u001B[32m━━━━━━━━━━━━━━━━━━━━\u001B[0m\u001B[37m\u001B[0m \u001B[1m0s\u001B[0m 1ms/step - bit_accuracy: 0.9398 - loss: 0.1887 - val_bit_accuracy: 0.9397 - val_loss: 0.1886\n",
      "Epoch 31/50\n",
      "\u001B[1m400/400\u001B[0m \u001B[32m━━━━━━━━━━━━━━━━━━━━\u001B[0m\u001B[37m\u001B[0m \u001B[1m0s\u001B[0m 1ms/step - bit_accuracy: 0.9398 - loss: 0.1887 - val_bit_accuracy: 0.9397 - val_loss: 0.1886\n",
      "Epoch 32/50\n",
      "\u001B[1m400/400\u001B[0m \u001B[32m━━━━━━━━━━━━━━━━━━━━\u001B[0m\u001B[37m\u001B[0m \u001B[1m0s\u001B[0m 1ms/step - bit_accuracy: 0.9398 - loss: 0.1887 - val_bit_accuracy: 0.9397 - val_loss: 0.1887\n",
      "Epoch 33/50\n",
      "\u001B[1m400/400\u001B[0m \u001B[32m━━━━━━━━━━━━━━━━━━━━\u001B[0m\u001B[37m\u001B[0m \u001B[1m0s\u001B[0m 1ms/step - bit_accuracy: 0.9398 - loss: 0.1887 - val_bit_accuracy: 0.9397 - val_loss: 0.1887\n",
      "Epoch 34/50\n",
      "\u001B[1m400/400\u001B[0m \u001B[32m━━━━━━━━━━━━━━━━━━━━\u001B[0m\u001B[37m\u001B[0m \u001B[1m0s\u001B[0m 1ms/step - bit_accuracy: 0.9398 - loss: 0.1887 - val_bit_accuracy: 0.9397 - val_loss: 0.1887\n",
      "Epoch 35/50\n",
      "\u001B[1m400/400\u001B[0m \u001B[32m━━━━━━━━━━━━━━━━━━━━\u001B[0m\u001B[37m\u001B[0m \u001B[1m0s\u001B[0m 1ms/step - bit_accuracy: 0.9398 - loss: 0.1887 - val_bit_accuracy: 0.9397 - val_loss: 0.1887\n",
      "Epoch 36/50\n",
      "\u001B[1m400/400\u001B[0m \u001B[32m━━━━━━━━━━━━━━━━━━━━\u001B[0m\u001B[37m\u001B[0m \u001B[1m1s\u001B[0m 1ms/step - bit_accuracy: 0.9398 - loss: 0.1887 - val_bit_accuracy: 0.9397 - val_loss: 0.1887\n",
      "Epoch 37/50\n",
      "\u001B[1m400/400\u001B[0m \u001B[32m━━━━━━━━━━━━━━━━━━━━\u001B[0m\u001B[37m\u001B[0m \u001B[1m0s\u001B[0m 1ms/step - bit_accuracy: 0.9398 - loss: 0.1887 - val_bit_accuracy: 0.9397 - val_loss: 0.1887\n",
      "Epoch 38/50\n",
      "\u001B[1m400/400\u001B[0m \u001B[32m━━━━━━━━━━━━━━━━━━━━\u001B[0m\u001B[37m\u001B[0m \u001B[1m0s\u001B[0m 1ms/step - bit_accuracy: 0.9398 - loss: 0.1887 - val_bit_accuracy: 0.9397 - val_loss: 0.1886\n",
      "Epoch 39/50\n",
      "\u001B[1m400/400\u001B[0m \u001B[32m━━━━━━━━━━━━━━━━━━━━\u001B[0m\u001B[37m\u001B[0m \u001B[1m1s\u001B[0m 1ms/step - bit_accuracy: 0.9398 - loss: 0.1886 - val_bit_accuracy: 0.9397 - val_loss: 0.1887\n",
      "Epoch 40/50\n",
      "\u001B[1m400/400\u001B[0m \u001B[32m━━━━━━━━━━━━━━━━━━━━\u001B[0m\u001B[37m\u001B[0m \u001B[1m0s\u001B[0m 1ms/step - bit_accuracy: 0.9398 - loss: 0.1886 - val_bit_accuracy: 0.9397 - val_loss: 0.1887\n",
      "Epoch 41/50\n",
      "\u001B[1m400/400\u001B[0m \u001B[32m━━━━━━━━━━━━━━━━━━━━\u001B[0m\u001B[37m\u001B[0m \u001B[1m1s\u001B[0m 1ms/step - bit_accuracy: 0.9398 - loss: 0.1886 - val_bit_accuracy: 0.9397 - val_loss: 0.1887\n",
      "Epoch 42/50\n",
      "\u001B[1m400/400\u001B[0m \u001B[32m━━━━━━━━━━━━━━━━━━━━\u001B[0m\u001B[37m\u001B[0m \u001B[1m0s\u001B[0m 1ms/step - bit_accuracy: 0.9398 - loss: 0.1886 - val_bit_accuracy: 0.9397 - val_loss: 0.1887\n",
      "Epoch 43/50\n",
      "\u001B[1m400/400\u001B[0m \u001B[32m━━━━━━━━━━━━━━━━━━━━\u001B[0m\u001B[37m\u001B[0m \u001B[1m0s\u001B[0m 1ms/step - bit_accuracy: 0.9398 - loss: 0.1886 - val_bit_accuracy: 0.9397 - val_loss: 0.1887\n",
      "Epoch 44/50\n",
      "\u001B[1m400/400\u001B[0m \u001B[32m━━━━━━━━━━━━━━━━━━━━\u001B[0m\u001B[37m\u001B[0m \u001B[1m0s\u001B[0m 1ms/step - bit_accuracy: 0.9398 - loss: 0.1886 - val_bit_accuracy: 0.9397 - val_loss: 0.1887\n",
      "Epoch 45/50\n",
      "\u001B[1m400/400\u001B[0m \u001B[32m━━━━━━━━━━━━━━━━━━━━\u001B[0m\u001B[37m\u001B[0m \u001B[1m0s\u001B[0m 1ms/step - bit_accuracy: 0.9398 - loss: 0.1886 - val_bit_accuracy: 0.9397 - val_loss: 0.1887\n",
      "Epoch 46/50\n",
      "\u001B[1m400/400\u001B[0m \u001B[32m━━━━━━━━━━━━━━━━━━━━\u001B[0m\u001B[37m\u001B[0m \u001B[1m0s\u001B[0m 1ms/step - bit_accuracy: 0.9398 - loss: 0.1886 - val_bit_accuracy: 0.9397 - val_loss: 0.1888\n",
      "Epoch 47/50\n",
      "\u001B[1m400/400\u001B[0m \u001B[32m━━━━━━━━━━━━━━━━━━━━\u001B[0m\u001B[37m\u001B[0m \u001B[1m1s\u001B[0m 1ms/step - bit_accuracy: 0.9399 - loss: 0.1886 - val_bit_accuracy: 0.9396 - val_loss: 0.1888\n",
      "Epoch 48/50\n",
      "\u001B[1m400/400\u001B[0m \u001B[32m━━━━━━━━━━━━━━━━━━━━\u001B[0m\u001B[37m\u001B[0m \u001B[1m0s\u001B[0m 1ms/step - bit_accuracy: 0.9399 - loss: 0.1886 - val_bit_accuracy: 0.9397 - val_loss: 0.1888\n",
      "Epoch 49/50\n",
      "\u001B[1m400/400\u001B[0m \u001B[32m━━━━━━━━━━━━━━━━━━━━\u001B[0m\u001B[37m\u001B[0m \u001B[1m0s\u001B[0m 1ms/step - bit_accuracy: 0.9399 - loss: 0.1886 - val_bit_accuracy: 0.9396 - val_loss: 0.1888\n",
      "Epoch 50/50\n",
      "\u001B[1m400/400\u001B[0m \u001B[32m━━━━━━━━━━━━━━━━━━━━\u001B[0m\u001B[37m\u001B[0m \u001B[1m1s\u001B[0m 1ms/step - bit_accuracy: 0.9399 - loss: 0.1886 - val_bit_accuracy: 0.9396 - val_loss: 0.1887\n",
      "\u001B[1m125/125\u001B[0m \u001B[32m━━━━━━━━━━━━━━━━━━━━\u001B[0m\u001B[37m\u001B[0m \u001B[1m0s\u001B[0m 465us/step\n",
      "0.939723702979373\n"
     ]
    }
   ],
   "source": [
    "df_encoded_copy2 = df_encoded.copy()\n",
    "X_missing_values2 = adding_missing_values(df_encoded_copy2, indices, 4, 300)\n",
    "X_train2, X_test2, y_train2, y_test2 = train_test_split(X_missing_values2, df_encoded_copy2, test_size=0.2, random_state=42)\n",
    "\n",
    "input_dim = X_train2.shape[1]\n",
    "\n",
    "model = keras.Sequential([\n",
    "    layers.Input(shape=(input_dim,)),\n",
    "    layers.Dense(128, activation='relu'),\n",
    "    layers.Dense(input_dim, activation='sigmoid')  # output binario\n",
    "])\n",
    "\n",
    "model.compile(optimizer='adam', loss='binary_crossentropy', metrics=[BinaryAccuracy(name=\"bit_accuracy\")])\n",
    "\n",
    "history2 = model.fit(\n",
    "    X_train2, y_train2,\n",
    "    epochs=50,\n",
    "    batch_size=32,\n",
    "    validation_split=0.2,\n",
    "    verbose=1\n",
    ")\n",
    "\n",
    "y_pred2 = model.predict(X_test2)\n",
    "y_pred_binary2 = (y_pred2 > 0.8).astype(int)\n",
    "accuracy_letter2 = (y_pred_binary2 == y_test2).mean()\n",
    "\n",
    "test_mask2 = (X_test2 != 0).astype(int)  # 1 = osservato, 0 = mancato\n",
    "missing_mask2 = (test_mask2 == 0)\n",
    "\n",
    "# Calcola solo dove i bit erano mancanti\n",
    "correct_missing2 = (y_pred_binary2 == y_test2) & missing_mask2\n",
    "accuracy_missing2 = correct_missing2.sum() / missing_mask2.sum()\n",
    "print(accuracy_missing2)"
   ],
   "metadata": {
    "collapsed": false,
    "ExecuteTime": {
     "end_time": "2025-08-06T16:19:07.129155Z",
     "start_time": "2025-08-06T16:18:40.252472Z"
    }
   },
   "id": "2787a91f2b2870b",
   "execution_count": 59
  },
  {
   "cell_type": "markdown",
   "source": [
    "# LETS CONSIDER NOW THE SECOND DATASET"
   ],
   "metadata": {
    "collapsed": false
   },
   "id": "ba100924087b027a"
  },
  {
   "cell_type": "code",
   "outputs": [
    {
     "data": {
      "text/plain": "     buying  maint  doors persons lug_boot safety  class\n0     vhigh  vhigh      2       2    small    low  unacc\n1     vhigh  vhigh      2       2    small    med  unacc\n2     vhigh  vhigh      2       2    small   high  unacc\n3     vhigh  vhigh      2       2      med    low  unacc\n4     vhigh  vhigh      2       2      med    med  unacc\n...     ...    ...    ...     ...      ...    ...    ...\n1723    low    low  5more    more      med    med   good\n1724    low    low  5more    more      med   high  vgood\n1725    low    low  5more    more      big    low  unacc\n1726    low    low  5more    more      big    med   good\n1727    low    low  5more    more      big   high  vgood\n\n[1728 rows x 7 columns]",
      "text/html": "<div>\n<style scoped>\n    .dataframe tbody tr th:only-of-type {\n        vertical-align: middle;\n    }\n\n    .dataframe tbody tr th {\n        vertical-align: top;\n    }\n\n    .dataframe thead th {\n        text-align: right;\n    }\n</style>\n<table border=\"1\" class=\"dataframe\">\n  <thead>\n    <tr style=\"text-align: right;\">\n      <th></th>\n      <th>buying</th>\n      <th>maint</th>\n      <th>doors</th>\n      <th>persons</th>\n      <th>lug_boot</th>\n      <th>safety</th>\n      <th>class</th>\n    </tr>\n  </thead>\n  <tbody>\n    <tr>\n      <th>0</th>\n      <td>vhigh</td>\n      <td>vhigh</td>\n      <td>2</td>\n      <td>2</td>\n      <td>small</td>\n      <td>low</td>\n      <td>unacc</td>\n    </tr>\n    <tr>\n      <th>1</th>\n      <td>vhigh</td>\n      <td>vhigh</td>\n      <td>2</td>\n      <td>2</td>\n      <td>small</td>\n      <td>med</td>\n      <td>unacc</td>\n    </tr>\n    <tr>\n      <th>2</th>\n      <td>vhigh</td>\n      <td>vhigh</td>\n      <td>2</td>\n      <td>2</td>\n      <td>small</td>\n      <td>high</td>\n      <td>unacc</td>\n    </tr>\n    <tr>\n      <th>3</th>\n      <td>vhigh</td>\n      <td>vhigh</td>\n      <td>2</td>\n      <td>2</td>\n      <td>med</td>\n      <td>low</td>\n      <td>unacc</td>\n    </tr>\n    <tr>\n      <th>4</th>\n      <td>vhigh</td>\n      <td>vhigh</td>\n      <td>2</td>\n      <td>2</td>\n      <td>med</td>\n      <td>med</td>\n      <td>unacc</td>\n    </tr>\n    <tr>\n      <th>...</th>\n      <td>...</td>\n      <td>...</td>\n      <td>...</td>\n      <td>...</td>\n      <td>...</td>\n      <td>...</td>\n      <td>...</td>\n    </tr>\n    <tr>\n      <th>1723</th>\n      <td>low</td>\n      <td>low</td>\n      <td>5more</td>\n      <td>more</td>\n      <td>med</td>\n      <td>med</td>\n      <td>good</td>\n    </tr>\n    <tr>\n      <th>1724</th>\n      <td>low</td>\n      <td>low</td>\n      <td>5more</td>\n      <td>more</td>\n      <td>med</td>\n      <td>high</td>\n      <td>vgood</td>\n    </tr>\n    <tr>\n      <th>1725</th>\n      <td>low</td>\n      <td>low</td>\n      <td>5more</td>\n      <td>more</td>\n      <td>big</td>\n      <td>low</td>\n      <td>unacc</td>\n    </tr>\n    <tr>\n      <th>1726</th>\n      <td>low</td>\n      <td>low</td>\n      <td>5more</td>\n      <td>more</td>\n      <td>big</td>\n      <td>med</td>\n      <td>good</td>\n    </tr>\n    <tr>\n      <th>1727</th>\n      <td>low</td>\n      <td>low</td>\n      <td>5more</td>\n      <td>more</td>\n      <td>big</td>\n      <td>high</td>\n      <td>vgood</td>\n    </tr>\n  </tbody>\n</table>\n<p>1728 rows × 7 columns</p>\n</div>"
     },
     "execution_count": 44,
     "metadata": {},
     "output_type": "execute_result"
    }
   ],
   "source": [
    "# Load the dataset\n",
    "columns2 = [\"buying\", \"maint\", \"doors\", \"persons\", \"lug_boot\",\n",
    "            \"safety\", \"class\"]\n",
    "df2 = pd.read_csv(\"car.data\", delimiter=\",\", header=None, names=columns2)\n",
    "df2"
   ],
   "metadata": {
    "collapsed": false,
    "ExecuteTime": {
     "end_time": "2025-08-06T16:10:45.471480Z",
     "start_time": "2025-08-06T16:10:45.459290Z"
    }
   },
   "id": "e669b200f8489b15",
   "execution_count": 44
  },
  {
   "cell_type": "markdown",
   "source": [
    "# One-Hot Encoding"
   ],
   "metadata": {
    "collapsed": false
   },
   "id": "5083e1c64c04a019"
  },
  {
   "cell_type": "code",
   "outputs": [
    {
     "data": {
      "text/plain": "array([[0., 0., 0., ..., 0., 1., 0.],\n       [0., 0., 0., ..., 0., 1., 0.],\n       [0., 0., 0., ..., 0., 1., 0.],\n       ...,\n       [0., 1., 0., ..., 0., 1., 0.],\n       [0., 1., 0., ..., 1., 0., 0.],\n       [0., 1., 0., ..., 0., 0., 1.]])"
     },
     "execution_count": 45,
     "metadata": {},
     "output_type": "execute_result"
    }
   ],
   "source": [
    "df2_encoded = encoder.fit_transform(df2).toarray()\n",
    "df2_encoded"
   ],
   "metadata": {
    "collapsed": false,
    "ExecuteTime": {
     "end_time": "2025-08-06T16:10:47.030848Z",
     "start_time": "2025-08-06T16:10:47.018392Z"
    }
   },
   "id": "d5b009e0ead064c4",
   "execution_count": 45
  },
  {
   "cell_type": "code",
   "outputs": [],
   "source": [],
   "metadata": {
    "collapsed": false,
    "ExecuteTime": {
     "end_time": "2025-08-06T16:10:47.865779Z",
     "start_time": "2025-08-06T16:10:47.862457Z"
    }
   },
   "id": "b01d72b1e46904d5",
   "execution_count": 45
  },
  {
   "cell_type": "code",
   "outputs": [
    {
     "data": {
      "text/plain": "{0: range(0, 4),\n 1: range(4, 8),\n 2: range(8, 12),\n 3: range(12, 15),\n 4: range(15, 18),\n 5: range(18, 21),\n 6: range(21, 25)}"
     },
     "execution_count": 46,
     "metadata": {},
     "output_type": "execute_result"
    }
   ],
   "source": [
    "\"\"\"\n",
    "indices2 = {\n",
    "    0: range(0, 4), # buying\n",
    "    1: range(4, 8), # maint\n",
    "    2: range(8, 12), # doors\n",
    "    3: range(12, 15), # persons\n",
    "    4: range(15, 18), # lug_boot\n",
    "    5: range(18, 21), # safety\n",
    "    6: range(21, 25) #class\n",
    "}\n",
    "\"\"\"\n",
    "indices2 = build_indices(df2, columns2)\n",
    "indices2"
   ],
   "metadata": {
    "collapsed": false,
    "ExecuteTime": {
     "end_time": "2025-08-06T16:10:48.528765Z",
     "start_time": "2025-08-06T16:10:48.522268Z"
    }
   },
   "id": "23d4b075779c0351",
   "execution_count": 46
  },
  {
   "cell_type": "code",
   "outputs": [],
   "source": [
    "X_df2 = adding_missing_values(df2_encoded, indices2, 1, 100)\n",
    "y2 = df2_encoded.copy()"
   ],
   "metadata": {
    "collapsed": false,
    "ExecuteTime": {
     "end_time": "2025-08-06T16:10:50.603118Z",
     "start_time": "2025-08-06T16:10:50.597956Z"
    }
   },
   "id": "a91dd83243122f7d",
   "execution_count": 47
  },
  {
   "cell_type": "code",
   "outputs": [],
   "source": [],
   "metadata": {
    "collapsed": false,
    "ExecuteTime": {
     "end_time": "2025-08-06T16:10:51.377984Z",
     "start_time": "2025-08-06T16:10:51.375646Z"
    }
   },
   "id": "f8ccc1230df487a7",
   "execution_count": 47
  },
  {
   "cell_type": "code",
   "outputs": [],
   "source": [
    "X3_train, X3_test, y3_train, y3_test = train_test_split(X_df2, y2, test_size=0.2, random_state=42)\n"
   ],
   "metadata": {
    "collapsed": false,
    "ExecuteTime": {
     "end_time": "2025-08-06T16:08:16.675804Z",
     "start_time": "2025-08-06T16:08:16.671477Z"
    }
   },
   "id": "d4bc39735bc54845",
   "execution_count": 34
  },
  {
   "cell_type": "code",
   "outputs": [],
   "source": [
    "input_dim_car = X3_train.shape[1]\n",
    "\n",
    "model_car = keras.Sequential([\n",
    "    layers.Input(shape=(input_dim_car,)),\n",
    "    layers.Dense(128, activation='relu'),\n",
    "    layers.Dense(128, activation='relu'),\n",
    "    layers.Dense(input_dim_car, activation='sigmoid')\n",
    "])\n",
    "model_car.compile(optimizer='adam', loss='binary_crossentropy', metrics=[BinaryAccuracy(name=\"bit_accuracy\")])\n"
   ],
   "metadata": {
    "collapsed": false,
    "ExecuteTime": {
     "end_time": "2025-08-06T16:08:19.250612Z",
     "start_time": "2025-08-06T16:08:19.231818Z"
    }
   },
   "id": "248bf914a156a351",
   "execution_count": 35
  },
  {
   "cell_type": "code",
   "outputs": [
    {
     "name": "stdout",
     "output_type": "stream",
     "text": [
      "Epoch 1/50\n",
      "\u001B[1m35/35\u001B[0m \u001B[32m━━━━━━━━━━━━━━━━━━━━\u001B[0m\u001B[37m\u001B[0m \u001B[1m1s\u001B[0m 5ms/step - bit_accuracy: 0.7293 - loss: 0.6653 - val_bit_accuracy: 0.7320 - val_loss: 0.6147\n",
      "Epoch 2/50\n",
      "\u001B[1m35/35\u001B[0m \u001B[32m━━━━━━━━━━━━━━━━━━━━\u001B[0m\u001B[37m\u001B[0m \u001B[1m0s\u001B[0m 2ms/step - bit_accuracy: 0.7376 - loss: 0.5748 - val_bit_accuracy: 0.7320 - val_loss: 0.5668\n",
      "Epoch 3/50\n",
      "\u001B[1m35/35\u001B[0m \u001B[32m━━━━━━━━━━━━━━━━━━━━\u001B[0m\u001B[37m\u001B[0m \u001B[1m0s\u001B[0m 2ms/step - bit_accuracy: 0.7376 - loss: 0.5562 - val_bit_accuracy: 0.7320 - val_loss: 0.5640\n",
      "Epoch 4/50\n",
      "\u001B[1m35/35\u001B[0m \u001B[32m━━━━━━━━━━━━━━━━━━━━\u001B[0m\u001B[37m\u001B[0m \u001B[1m0s\u001B[0m 3ms/step - bit_accuracy: 0.7376 - loss: 0.5537 - val_bit_accuracy: 0.7320 - val_loss: 0.5642\n",
      "Epoch 5/50\n",
      "\u001B[1m35/35\u001B[0m \u001B[32m━━━━━━━━━━━━━━━━━━━━\u001B[0m\u001B[37m\u001B[0m \u001B[1m0s\u001B[0m 3ms/step - bit_accuracy: 0.7378 - loss: 0.5523 - val_bit_accuracy: 0.7321 - val_loss: 0.5642\n",
      "Epoch 6/50\n",
      "\u001B[1m35/35\u001B[0m \u001B[32m━━━━━━━━━━━━━━━━━━━━\u001B[0m\u001B[37m\u001B[0m \u001B[1m0s\u001B[0m 2ms/step - bit_accuracy: 0.7387 - loss: 0.5508 - val_bit_accuracy: 0.7324 - val_loss: 0.5644\n",
      "Epoch 7/50\n",
      "\u001B[1m35/35\u001B[0m \u001B[32m━━━━━━━━━━━━━━━━━━━━\u001B[0m\u001B[37m\u001B[0m \u001B[1m0s\u001B[0m 2ms/step - bit_accuracy: 0.7405 - loss: 0.5490 - val_bit_accuracy: 0.7339 - val_loss: 0.5639\n",
      "Epoch 8/50\n",
      "\u001B[1m35/35\u001B[0m \u001B[32m━━━━━━━━━━━━━━━━━━━━\u001B[0m\u001B[37m\u001B[0m \u001B[1m0s\u001B[0m 2ms/step - bit_accuracy: 0.7417 - loss: 0.5476 - val_bit_accuracy: 0.7346 - val_loss: 0.5627\n",
      "Epoch 9/50\n",
      "\u001B[1m35/35\u001B[0m \u001B[32m━━━━━━━━━━━━━━━━━━━━\u001B[0m\u001B[37m\u001B[0m \u001B[1m0s\u001B[0m 2ms/step - bit_accuracy: 0.7431 - loss: 0.5458 - val_bit_accuracy: 0.7346 - val_loss: 0.5644\n",
      "Epoch 10/50\n",
      "\u001B[1m35/35\u001B[0m \u001B[32m━━━━━━━━━━━━━━━━━━━━\u001B[0m\u001B[37m\u001B[0m \u001B[1m0s\u001B[0m 2ms/step - bit_accuracy: 0.7437 - loss: 0.5446 - val_bit_accuracy: 0.7344 - val_loss: 0.5629\n",
      "Epoch 11/50\n",
      "\u001B[1m35/35\u001B[0m \u001B[32m━━━━━━━━━━━━━━━━━━━━\u001B[0m\u001B[37m\u001B[0m \u001B[1m0s\u001B[0m 2ms/step - bit_accuracy: 0.7445 - loss: 0.5438 - val_bit_accuracy: 0.7347 - val_loss: 0.5636\n",
      "Epoch 12/50\n",
      "\u001B[1m35/35\u001B[0m \u001B[32m━━━━━━━━━━━━━━━━━━━━\u001B[0m\u001B[37m\u001B[0m \u001B[1m0s\u001B[0m 2ms/step - bit_accuracy: 0.7448 - loss: 0.5425 - val_bit_accuracy: 0.7342 - val_loss: 0.5633\n",
      "Epoch 13/50\n",
      "\u001B[1m35/35\u001B[0m \u001B[32m━━━━━━━━━━━━━━━━━━━━\u001B[0m\u001B[37m\u001B[0m \u001B[1m0s\u001B[0m 2ms/step - bit_accuracy: 0.7455 - loss: 0.5413 - val_bit_accuracy: 0.7337 - val_loss: 0.5650\n",
      "Epoch 14/50\n",
      "\u001B[1m35/35\u001B[0m \u001B[32m━━━━━━━━━━━━━━━━━━━━\u001B[0m\u001B[37m\u001B[0m \u001B[1m0s\u001B[0m 2ms/step - bit_accuracy: 0.7454 - loss: 0.5407 - val_bit_accuracy: 0.7330 - val_loss: 0.5640\n",
      "Epoch 15/50\n",
      "\u001B[1m35/35\u001B[0m \u001B[32m━━━━━━━━━━━━━━━━━━━━\u001B[0m\u001B[37m\u001B[0m \u001B[1m0s\u001B[0m 2ms/step - bit_accuracy: 0.7455 - loss: 0.5404 - val_bit_accuracy: 0.7334 - val_loss: 0.5683\n",
      "Epoch 16/50\n",
      "\u001B[1m35/35\u001B[0m \u001B[32m━━━━━━━━━━━━━━━━━━━━\u001B[0m\u001B[37m\u001B[0m \u001B[1m0s\u001B[0m 2ms/step - bit_accuracy: 0.7459 - loss: 0.5395 - val_bit_accuracy: 0.7327 - val_loss: 0.5649\n",
      "Epoch 17/50\n",
      "\u001B[1m35/35\u001B[0m \u001B[32m━━━━━━━━━━━━━━━━━━━━\u001B[0m\u001B[37m\u001B[0m \u001B[1m0s\u001B[0m 2ms/step - bit_accuracy: 0.7460 - loss: 0.5389 - val_bit_accuracy: 0.7330 - val_loss: 0.5651\n",
      "Epoch 18/50\n",
      "\u001B[1m35/35\u001B[0m \u001B[32m━━━━━━━━━━━━━━━━━━━━\u001B[0m\u001B[37m\u001B[0m \u001B[1m0s\u001B[0m 3ms/step - bit_accuracy: 0.7466 - loss: 0.5385 - val_bit_accuracy: 0.7326 - val_loss: 0.5649\n",
      "Epoch 19/50\n",
      "\u001B[1m35/35\u001B[0m \u001B[32m━━━━━━━━━━━━━━━━━━━━\u001B[0m\u001B[37m\u001B[0m \u001B[1m0s\u001B[0m 3ms/step - bit_accuracy: 0.7465 - loss: 0.5380 - val_bit_accuracy: 0.7331 - val_loss: 0.5637\n",
      "Epoch 20/50\n",
      "\u001B[1m35/35\u001B[0m \u001B[32m━━━━━━━━━━━━━━━━━━━━\u001B[0m\u001B[37m\u001B[0m \u001B[1m0s\u001B[0m 2ms/step - bit_accuracy: 0.7465 - loss: 0.5377 - val_bit_accuracy: 0.7330 - val_loss: 0.5647\n",
      "Epoch 21/50\n",
      "\u001B[1m35/35\u001B[0m \u001B[32m━━━━━━━━━━━━━━━━━━━━\u001B[0m\u001B[37m\u001B[0m \u001B[1m0s\u001B[0m 2ms/step - bit_accuracy: 0.7468 - loss: 0.5374 - val_bit_accuracy: 0.7331 - val_loss: 0.5654\n",
      "Epoch 22/50\n",
      "\u001B[1m35/35\u001B[0m \u001B[32m━━━━━━━━━━━━━━━━━━━━\u001B[0m\u001B[37m\u001B[0m \u001B[1m0s\u001B[0m 3ms/step - bit_accuracy: 0.7469 - loss: 0.5366 - val_bit_accuracy: 0.7321 - val_loss: 0.5659\n",
      "Epoch 23/50\n",
      "\u001B[1m35/35\u001B[0m \u001B[32m━━━━━━━━━━━━━━━━━━━━\u001B[0m\u001B[37m\u001B[0m \u001B[1m0s\u001B[0m 2ms/step - bit_accuracy: 0.7471 - loss: 0.5365 - val_bit_accuracy: 0.7333 - val_loss: 0.5662\n",
      "Epoch 24/50\n",
      "\u001B[1m35/35\u001B[0m \u001B[32m━━━━━━━━━━━━━━━━━━━━\u001B[0m\u001B[37m\u001B[0m \u001B[1m0s\u001B[0m 2ms/step - bit_accuracy: 0.7474 - loss: 0.5359 - val_bit_accuracy: 0.7323 - val_loss: 0.5658\n",
      "Epoch 25/50\n",
      "\u001B[1m35/35\u001B[0m \u001B[32m━━━━━━━━━━━━━━━━━━━━\u001B[0m\u001B[37m\u001B[0m \u001B[1m0s\u001B[0m 2ms/step - bit_accuracy: 0.7475 - loss: 0.5357 - val_bit_accuracy: 0.7330 - val_loss: 0.5670\n",
      "Epoch 26/50\n",
      "\u001B[1m35/35\u001B[0m \u001B[32m━━━━━━━━━━━━━━━━━━━━\u001B[0m\u001B[37m\u001B[0m \u001B[1m0s\u001B[0m 2ms/step - bit_accuracy: 0.7479 - loss: 0.5357 - val_bit_accuracy: 0.7318 - val_loss: 0.5658\n",
      "Epoch 27/50\n",
      "\u001B[1m35/35\u001B[0m \u001B[32m━━━━━━━━━━━━━━━━━━━━\u001B[0m\u001B[37m\u001B[0m \u001B[1m0s\u001B[0m 2ms/step - bit_accuracy: 0.7475 - loss: 0.5352 - val_bit_accuracy: 0.7321 - val_loss: 0.5653\n",
      "Epoch 28/50\n",
      "\u001B[1m35/35\u001B[0m \u001B[32m━━━━━━━━━━━━━━━━━━━━\u001B[0m\u001B[37m\u001B[0m \u001B[1m0s\u001B[0m 2ms/step - bit_accuracy: 0.7477 - loss: 0.5344 - val_bit_accuracy: 0.7327 - val_loss: 0.5662\n",
      "Epoch 29/50\n",
      "\u001B[1m35/35\u001B[0m \u001B[32m━━━━━━━━━━━━━━━━━━━━\u001B[0m\u001B[37m\u001B[0m \u001B[1m0s\u001B[0m 2ms/step - bit_accuracy: 0.7477 - loss: 0.5345 - val_bit_accuracy: 0.7327 - val_loss: 0.5691\n",
      "Epoch 30/50\n",
      "\u001B[1m35/35\u001B[0m \u001B[32m━━━━━━━━━━━━━━━━━━━━\u001B[0m\u001B[37m\u001B[0m \u001B[1m0s\u001B[0m 2ms/step - bit_accuracy: 0.7479 - loss: 0.5348 - val_bit_accuracy: 0.7330 - val_loss: 0.5700\n",
      "Epoch 31/50\n",
      "\u001B[1m35/35\u001B[0m \u001B[32m━━━━━━━━━━━━━━━━━━━━\u001B[0m\u001B[37m\u001B[0m \u001B[1m0s\u001B[0m 2ms/step - bit_accuracy: 0.7482 - loss: 0.5337 - val_bit_accuracy: 0.7329 - val_loss: 0.5694\n",
      "Epoch 32/50\n",
      "\u001B[1m35/35\u001B[0m \u001B[32m━━━━━━━━━━━━━━━━━━━━\u001B[0m\u001B[37m\u001B[0m \u001B[1m0s\u001B[0m 2ms/step - bit_accuracy: 0.7480 - loss: 0.5340 - val_bit_accuracy: 0.7326 - val_loss: 0.5710\n",
      "Epoch 33/50\n",
      "\u001B[1m35/35\u001B[0m \u001B[32m━━━━━━━━━━━━━━━━━━━━\u001B[0m\u001B[37m\u001B[0m \u001B[1m0s\u001B[0m 2ms/step - bit_accuracy: 0.7484 - loss: 0.5333 - val_bit_accuracy: 0.7329 - val_loss: 0.5688\n",
      "Epoch 34/50\n",
      "\u001B[1m35/35\u001B[0m \u001B[32m━━━━━━━━━━━━━━━━━━━━\u001B[0m\u001B[37m\u001B[0m \u001B[1m0s\u001B[0m 2ms/step - bit_accuracy: 0.7484 - loss: 0.5335 - val_bit_accuracy: 0.7330 - val_loss: 0.5718\n",
      "Epoch 35/50\n",
      "\u001B[1m35/35\u001B[0m \u001B[32m━━━━━━━━━━━━━━━━━━━━\u001B[0m\u001B[37m\u001B[0m \u001B[1m0s\u001B[0m 2ms/step - bit_accuracy: 0.7483 - loss: 0.5333 - val_bit_accuracy: 0.7326 - val_loss: 0.5685\n",
      "Epoch 36/50\n",
      "\u001B[1m35/35\u001B[0m \u001B[32m━━━━━━━━━━━━━━━━━━━━\u001B[0m\u001B[37m\u001B[0m \u001B[1m0s\u001B[0m 2ms/step - bit_accuracy: 0.7487 - loss: 0.5324 - val_bit_accuracy: 0.7323 - val_loss: 0.5697\n",
      "Epoch 37/50\n",
      "\u001B[1m35/35\u001B[0m \u001B[32m━━━━━━━━━━━━━━━━━━━━\u001B[0m\u001B[37m\u001B[0m \u001B[1m0s\u001B[0m 2ms/step - bit_accuracy: 0.7481 - loss: 0.5323 - val_bit_accuracy: 0.7329 - val_loss: 0.5689\n",
      "Epoch 38/50\n",
      "\u001B[1m35/35\u001B[0m \u001B[32m━━━━━━━━━━━━━━━━━━━━\u001B[0m\u001B[37m\u001B[0m \u001B[1m0s\u001B[0m 2ms/step - bit_accuracy: 0.7486 - loss: 0.5321 - val_bit_accuracy: 0.7326 - val_loss: 0.5707\n",
      "Epoch 39/50\n",
      "\u001B[1m35/35\u001B[0m \u001B[32m━━━━━━━━━━━━━━━━━━━━\u001B[0m\u001B[37m\u001B[0m \u001B[1m0s\u001B[0m 2ms/step - bit_accuracy: 0.7485 - loss: 0.5320 - val_bit_accuracy: 0.7323 - val_loss: 0.5687\n",
      "Epoch 40/50\n",
      "\u001B[1m35/35\u001B[0m \u001B[32m━━━━━━━━━━━━━━━━━━━━\u001B[0m\u001B[37m\u001B[0m \u001B[1m0s\u001B[0m 2ms/step - bit_accuracy: 0.7491 - loss: 0.5320 - val_bit_accuracy: 0.7321 - val_loss: 0.5708\n",
      "Epoch 41/50\n",
      "\u001B[1m35/35\u001B[0m \u001B[32m━━━━━━━━━━━━━━━━━━━━\u001B[0m\u001B[37m\u001B[0m \u001B[1m0s\u001B[0m 2ms/step - bit_accuracy: 0.7491 - loss: 0.5317 - val_bit_accuracy: 0.7321 - val_loss: 0.5696\n",
      "Epoch 42/50\n",
      "\u001B[1m35/35\u001B[0m \u001B[32m━━━━━━━━━━━━━━━━━━━━\u001B[0m\u001B[37m\u001B[0m \u001B[1m0s\u001B[0m 2ms/step - bit_accuracy: 0.7489 - loss: 0.5320 - val_bit_accuracy: 0.7317 - val_loss: 0.5698\n",
      "Epoch 43/50\n",
      "\u001B[1m35/35\u001B[0m \u001B[32m━━━━━━━━━━━━━━━━━━━━\u001B[0m\u001B[37m\u001B[0m \u001B[1m0s\u001B[0m 2ms/step - bit_accuracy: 0.7494 - loss: 0.5315 - val_bit_accuracy: 0.7317 - val_loss: 0.5722\n",
      "Epoch 44/50\n",
      "\u001B[1m35/35\u001B[0m \u001B[32m━━━━━━━━━━━━━━━━━━━━\u001B[0m\u001B[37m\u001B[0m \u001B[1m0s\u001B[0m 2ms/step - bit_accuracy: 0.7495 - loss: 0.5314 - val_bit_accuracy: 0.7321 - val_loss: 0.5709\n",
      "Epoch 45/50\n",
      "\u001B[1m35/35\u001B[0m \u001B[32m━━━━━━━━━━━━━━━━━━━━\u001B[0m\u001B[37m\u001B[0m \u001B[1m0s\u001B[0m 2ms/step - bit_accuracy: 0.7492 - loss: 0.5310 - val_bit_accuracy: 0.7316 - val_loss: 0.5711\n",
      "Epoch 46/50\n",
      "\u001B[1m35/35\u001B[0m \u001B[32m━━━━━━━━━━━━━━━━━━━━\u001B[0m\u001B[37m\u001B[0m \u001B[1m0s\u001B[0m 2ms/step - bit_accuracy: 0.7494 - loss: 0.5315 - val_bit_accuracy: 0.7326 - val_loss: 0.5738\n",
      "Epoch 47/50\n",
      "\u001B[1m35/35\u001B[0m \u001B[32m━━━━━━━━━━━━━━━━━━━━\u001B[0m\u001B[37m\u001B[0m \u001B[1m0s\u001B[0m 2ms/step - bit_accuracy: 0.7498 - loss: 0.5307 - val_bit_accuracy: 0.7311 - val_loss: 0.5726\n",
      "Epoch 48/50\n",
      "\u001B[1m35/35\u001B[0m \u001B[32m━━━━━━━━━━━━━━━━━━━━\u001B[0m\u001B[37m\u001B[0m \u001B[1m0s\u001B[0m 2ms/step - bit_accuracy: 0.7495 - loss: 0.5306 - val_bit_accuracy: 0.7317 - val_loss: 0.5727\n",
      "Epoch 49/50\n",
      "\u001B[1m35/35\u001B[0m \u001B[32m━━━━━━━━━━━━━━━━━━━━\u001B[0m\u001B[37m\u001B[0m \u001B[1m0s\u001B[0m 4ms/step - bit_accuracy: 0.7499 - loss: 0.5304 - val_bit_accuracy: 0.7336 - val_loss: 0.5734\n",
      "Epoch 50/50\n",
      "\u001B[1m35/35\u001B[0m \u001B[32m━━━━━━━━━━━━━━━━━━━━\u001B[0m\u001B[37m\u001B[0m \u001B[1m0s\u001B[0m 2ms/step - bit_accuracy: 0.7494 - loss: 0.5304 - val_bit_accuracy: 0.7316 - val_loss: 0.5730\n",
      "\u001B[1m11/11\u001B[0m \u001B[32m━━━━━━━━━━━━━━━━━━━━\u001B[0m\u001B[37m\u001B[0m \u001B[1m0s\u001B[0m 3ms/step \n",
      "Missing value reconstruction accuracy (k=4): 0.7231323341466248\n"
     ]
    }
   ],
   "source": [
    "X_df4 = adding_missing_values(df2_encoded, indices2, 4, 300)\n",
    "y4 = df2_encoded.copy()\n",
    "\n",
    "X4_train, X4_test, y4_train, y4_test = train_test_split(X_df4, y4, test_size=0.2, random_state=42)\n",
    "\n",
    "input_dim_car = X4_train.shape[1]\n",
    "\n",
    "model_car = keras.Sequential([\n",
    "    layers.Input(shape=(input_dim_car,)),\n",
    "    layers.Dense(128, activation='relu'),\n",
    "    layers.Dense(128, activation='relu'),\n",
    "    layers.Dense(input_dim_car, activation='sigmoid')\n",
    "])\n",
    "model_car.compile(optimizer='adam', loss='binary_crossentropy', metrics=[BinaryAccuracy(name=\"bit_accuracy\")])\n",
    "\n",
    "history4 = model_car.fit(\n",
    "    X4_train, y4_train,\n",
    "    epochs=50,\n",
    "    batch_size=32,\n",
    "    validation_split=0.2,\n",
    "    verbose=1\n",
    ")\n",
    "\n",
    "# Predict\n",
    "y_pred4 = model_car.predict(X4_test)\n",
    "\n",
    "# Binarize output\n",
    "y_pred_binary4 = (y_pred4 > 0.8).astype(int)\n",
    "\n",
    "# Global accuracy\n",
    "accuracy_car4 = (y_pred_binary4 == y4_test).mean()\n",
    "\n",
    "# Accuracy only on missing bits\n",
    "test_mask4 = (X4_test != 0).astype(int)\n",
    "missing_mask4 = (test_mask4 == 0)\n",
    "correct_missing4 = (y_pred_binary4 == y4_test) & missing_mask4\n",
    "accuracy_missing4 = correct_missing4.sum() / missing_mask4.sum()\n",
    "\n",
    "print(accuracy_missing4)\n"
   ],
   "metadata": {
    "collapsed": false,
    "ExecuteTime": {
     "end_time": "2025-08-06T16:17:33.195215Z",
     "start_time": "2025-08-06T16:17:27.151166Z"
    }
   },
   "id": "ded357ce86e3322f",
   "execution_count": 58
  },
  {
   "cell_type": "markdown",
   "source": [
    "# Now i'm gonna test if the model can predict missing values using a different value of K\n"
   ],
   "metadata": {
    "collapsed": false
   },
   "id": "f8233b448e514ad2"
  },
  {
   "cell_type": "code",
   "outputs": [
    {
     "ename": "IndexError",
     "evalue": "index 25 is out of bounds for axis 1 with size 25",
     "output_type": "error",
     "traceback": [
      "\u001B[31m---------------------------------------------------------------------------\u001B[39m",
      "\u001B[31mIndexError\u001B[39m                                Traceback (most recent call last)",
      "\u001B[36mCell\u001B[39m\u001B[36m \u001B[39m\u001B[32mIn[55]\u001B[39m\u001B[32m, line 3\u001B[39m\n\u001B[32m      1\u001B[39m df_encoded_copy4 = df2_encoded.copy()\n\u001B[32m----> \u001B[39m\u001B[32m3\u001B[39m X_missing_values4 = adding_missing_values(df_encoded_copy4, indices, \u001B[32m1\u001B[39m, \u001B[32m100\u001B[39m)\n\u001B[32m      4\u001B[39m X_train4, X_test4, y_train4, y_test4 = train_test_split(\n\u001B[32m      5\u001B[39m     X_missing_values4, y2, test_size=\u001B[32m0.2\u001B[39m, random_state=\u001B[32m42\u001B[39m\n\u001B[32m      6\u001B[39m )\n\u001B[32m      7\u001B[39m input_dim_car = X_train4.shape[\u001B[32m1\u001B[39m]\n",
      "\u001B[36mCell\u001B[39m\u001B[36m \u001B[39m\u001B[32mIn[26]\u001B[39m\u001B[32m, line 17\u001B[39m, in \u001B[36madding_missing_values\u001B[39m\u001B[34m(data, indices, k, m)\u001B[39m\n\u001B[32m     15\u001B[39m         column_indices = \u001B[38;5;28mlist\u001B[39m(indices[col])\n\u001B[32m     16\u001B[39m         \u001B[38;5;28;01mfor\u001B[39;00m j \u001B[38;5;129;01min\u001B[39;00m column_indices:\n\u001B[32m---> \u001B[39m\u001B[32m17\u001B[39m             X[rows, j] = \u001B[32m0.0\u001B[39m\n\u001B[32m     19\u001B[39m \u001B[38;5;28;01mreturn\u001B[39;00m X\n",
      "\u001B[31mIndexError\u001B[39m: index 25 is out of bounds for axis 1 with size 25"
     ]
    }
   ],
   "source": [
    "df_encoded_copy4 = df2_encoded.copy()\n",
    "\n",
    "X_missing_values4 = adding_missing_values(df_encoded_copy4, indices, 1, 100)\n",
    "X_train4, X_test4, y_train4, y_test4 = train_test_split(\n",
    "    X_missing_values4, y2, test_size=0.2, random_state=42\n",
    ")\n",
    "input_dim_car = X_train4.shape[1]\n",
    "\n",
    "model_car = keras.Sequential([\n",
    "    layers.Input(shape=(input_dim_car,)),\n",
    "    layers.Dense(128, activation='relu'),\n",
    "    layers.Dense(128, activation='relu'),\n",
    "    layers.Dense(input_dim_car, activation='sigmoid')\n",
    "])\n",
    "model_car.compile(optimizer='adam', loss='binary_crossentropy', metrics=[BinaryAccuracy(name=\"bit_accuracy\")])\n",
    "history4 = model_car.fit(\n",
    "    X_train4, y_train4,\n",
    "    epochs=50,\n",
    "    batch_size=32,\n",
    "    validation_split=0.2,\n",
    "    verbose=1\n",
    ")\n",
    "\n",
    "y_pred4 = model_car.predict(X_test4)\n",
    "y_pred_binary4 = (y_pred4 > 0.8).astype(int)\n",
    "\n",
    "accuracy_car4 = ((y_pred_binary4 == y_test4).values).mean()\n",
    "\n",
    "# Accuracy only on missing values\n",
    "test_mask4 = (X_test4 != 0).astype(int)\n",
    "missing_mask4 = (test_mask4 == 0)\n",
    "correct_missing4 = (y_pred_binary4 == y_test4) & missing_mask4\n",
    "accuracy_missing4 = correct_missing4.sum() / missing_mask4.sum()\n",
    "print(\"Accuracy on missing values:\", accuracy_missing4)\n"
   ],
   "metadata": {
    "collapsed": false,
    "ExecuteTime": {
     "end_time": "2025-08-06T16:15:26.257437Z",
     "start_time": "2025-08-06T16:15:26.214538Z"
    }
   },
   "id": "1c36c078c4b61a85",
   "execution_count": 55
  },
  {
   "cell_type": "markdown",
   "source": [
    "# Plotting Results"
   ],
   "metadata": {
    "collapsed": false
   },
   "id": "9541ae354038b807"
  },
  {
   "cell_type": "code",
   "outputs": [],
   "source": [
    "results = {\n",
    "    \"Letters (1-miss)\": {\"bitwise\": accuracy_letter1, \"missing\": accuracy_missing},\n",
    "    \"Letters (4-miss)\": {\"bitwise\": accuracy_letter2, \"missing\": accuracy_missing2},\n",
    "    \"Cars (1-miss)\": {\"bitwise\": accuracy_car3, \"missing\": accuracy_missing3},\n",
    "    \"Cars (4-miss)\": {\"bitwise\": accuracy_car4, \"missing\": accuracy_missing4}\n",
    "}\n"
   ],
   "metadata": {
    "collapsed": false,
    "ExecuteTime": {
     "end_time": "2025-08-06T16:21:26.016103Z",
     "start_time": "2025-08-06T16:21:26.011751Z"
    }
   },
   "id": "85596e4aff05588f",
   "execution_count": 63
  },
  {
   "cell_type": "code",
   "outputs": [
    {
     "data": {
      "text/plain": "<Figure size 1200x600 with 1 Axes>",
      "image/png": "[encoded data removed]"
     },
     "metadata": {},
     "output_type": "display_data"
    }
   ],
   "source": [
    "\n",
    "labels = list(results.keys())\n",
    "bitwise = [results[exp][\"bitwise\"] for exp in labels]\n",
    "missing = [results[exp][\"missing\"] for exp in labels]\n",
    "\n",
    "# Setup\n",
    "x = np.arange(len(labels))\n",
    "width = 0.35\n",
    "\n",
    "fig, ax = plt.subplots(figsize=(12, 6))\n",
    "\n",
    "bars2 = ax.bar(x + width/2, missing, width, label=\"Missing-bit Accuracy\", color='tab:red')\n",
    "\n",
    "for i in range(len(labels)):\n",
    "    ax.text(x[i] + width/2, missing[i] + 0.005, f\"{missing[i]:.4f}\", ha='center', va='bottom', fontsize=10)\n",
    "\n",
    "ax.set_ylabel(\"Accuracy\")\n",
    "ax.set_title(\"Bit-wise Accuracy vs Missing-bit Accuracy per Esperimento\")\n",
    "ax.set_xticks(x)\n",
    "ax.set_xticklabels(labels, rotation=15)\n",
    "ax.set_ylim(0, 1.05)\n",
    "ax.legend()\n",
    "plt.tight_layout()\n",
    "plt.show()\n"
   ],
   "metadata": {
    "collapsed": false,
    "ExecuteTime": {
     "end_time": "2025-08-06T16:21:26.585642Z",
     "start_time": "2025-08-06T16:21:26.423596Z"
    }
   },
   "id": "9e51dad2e425a5b8",
   "execution_count": 64
  },
  {
   "cell_type": "code",
   "outputs": [],
   "source": [],
   "metadata": {
    "collapsed": false,
    "ExecuteTime": {
     "end_time": "2025-08-03T12:00:16.712572Z",
     "start_time": "2025-08-03T12:00:16.710531Z"
    }
   },
   "id": "6046ee766d49df01",
   "execution_count": 231
  }
 ],
 "metadata": {
  "kernelspec": {
   "display_name": "Python 3",
   "language": "python",
   "name": "python3"
  },
  "language_info": {
   "codemirror_mode": {
    "name": "ipython",
    "version": 2
   },
   "file_extension": ".py",
   "mimetype": "text/x-python",
   "name": "python",
   "nbconvert_exporter": "python",
   "pygments_lexer": "ipython2",
   "version": "2.7.6"
  }
 },
 "nbformat": 4,
 "nbformat_minor": 5
}
